{
 "cells": [
  {
   "cell_type": "code",
   "execution_count": null,
   "id": "356c557e",
   "metadata": {},
   "outputs": [],
   "source": [
    "import sys\n",
    "sys.path.append(\"..\")"
   ]
  },
  {
   "cell_type": "code",
   "execution_count": null,
   "id": "86bbab5d",
   "metadata": {},
   "outputs": [],
   "source": [
    "import numpy as np\n",
    "\n",
    "from fastai.vision.all import *\n",
    "from pathlib import Path\n",
    "from tqdm.auto import tqdm\n",
    "from shutil import copyfile, rmtree, move"
   ]
  },
  {
   "cell_type": "code",
   "execution_count": null,
   "id": "ebe42f33",
   "metadata": {},
   "outputs": [],
   "source": [
    "from urllib.request import urlopen\n",
    "from io import BytesIO\n",
    "from zipfile import ZipFile\n",
    "\n",
    "def download_and_unzip(url, extract_to='.'):\n",
    "    http_response = urlopen(url)\n",
    "    zipfile = ZipFile(BytesIO(http_response.read()))\n",
    "    zipfile.extractall(path=extract_to)"
   ]
  },
  {
   "cell_type": "code",
   "execution_count": null,
   "id": "9079cd8f",
   "metadata": {},
   "outputs": [],
   "source": [
    "PROJ_PATH = Path.cwd().parent\n",
    "DATA_PATH = PROJ_PATH/'data'\n",
    "print(PROJ_PATH)\n",
    "print(DATA_PATH)"
   ]
  },
  {
   "cell_type": "code",
   "execution_count": null,
   "id": "c573fcda",
   "metadata": {},
   "outputs": [],
   "source": [
    "download_and_unzip(url='https://github.com/abin24/Magnetic-tile-defect-datasets./archive/refs/heads/master.zip',\n",
    "                   extract_to=DATA_PATH)\n",
    "\n",
    "extract_dir = DATA_PATH/'Magnetic-tile-defect-datasets.-master'"
   ]
  },
  {
   "cell_type": "code",
   "execution_count": null,
   "id": "24cf2e0d",
   "metadata": {},
   "outputs": [],
   "source": [
    "dataset_path = DATA_PATH/'MAGNETIC_TILE_SURFACE_DEFECTS'\n",
    "if dataset_path.is_dir():\n",
    "    rmtree(dataset_path)\n",
    "if extract_dir.is_dir():\n",
    "    move(extract_dir, dataset_path)"
   ]
  },
  {
   "cell_type": "code",
   "execution_count": null,
   "id": "11607ebf",
   "metadata": {},
   "outputs": [],
   "source": [
    "dataset_path.ls()"
   ]
  },
  {
   "cell_type": "code",
   "execution_count": null,
   "id": "643d5851",
   "metadata": {},
   "outputs": [],
   "source": [
    "if (dataset_path/'MT_Free').exists():\n",
    "    rmtree(dataset_path/'MT_Free')"
   ]
  },
  {
   "cell_type": "code",
   "execution_count": null,
   "id": "958ec0db",
   "metadata": {},
   "outputs": [],
   "source": [
    "classes = []\n",
    "for ii in (dataset_path).ls():\n",
    "    if ii.is_dir() and ii.stem.startswith('MT_'):\n",
    "        classes.append(ii.stem)\n",
    "classes"
   ]
  },
  {
   "cell_type": "code",
   "execution_count": null,
   "id": "8b3ef0a1",
   "metadata": {},
   "outputs": [],
   "source": [
    "classes_dict = {c:i+1 for i, c in enumerate(classes)}\n",
    "classes_dict"
   ]
  },
  {
   "cell_type": "code",
   "execution_count": null,
   "id": "0276b44a",
   "metadata": {},
   "outputs": [],
   "source": [
    "img_paths = [get_files(dataset_path/c, extensions='.jpg') for c in classes]\n",
    "img_paths = [ii for sublist in img_paths for ii in sublist]\n",
    "len(img_paths)"
   ]
  },
  {
   "cell_type": "code",
   "execution_count": null,
   "id": "9828fd68",
   "metadata": {},
   "outputs": [],
   "source": [
    "msk_paths = [get_files(dataset_path/c, extensions='.png') for c in classes]\n",
    "msk_paths = [ii for sublist in msk_paths for ii in sublist]\n",
    "len(msk_paths)"
   ]
  },
  {
   "cell_type": "code",
   "execution_count": null,
   "id": "17611c75",
   "metadata": {},
   "outputs": [],
   "source": [
    "assert len(img_paths) == len(msk_paths)"
   ]
  },
  {
   "cell_type": "code",
   "execution_count": null,
   "id": "b35363f7",
   "metadata": {},
   "outputs": [],
   "source": [
    "path_images = dataset_path/'images'\n",
    "path_masks = dataset_path/'masks'\n",
    "\n",
    "for p in [path_images, path_masks]:\n",
    "    p.mkdir(exist_ok=True)"
   ]
  },
  {
   "cell_type": "code",
   "execution_count": null,
   "id": "34b1614f",
   "metadata": {},
   "outputs": [],
   "source": [
    "np.random.seed(42)\n",
    "for img_path, msk_path in tqdm(zip(img_paths, msk_paths), total=len(img_paths)):\n",
    "    c = msk_path.parent.parent.stem\n",
    "    msk = np.array(Image.open(msk_path))\n",
    "    msk[msk>0] = 1 # binary segmenation: defect/defect-free\n",
    "\n",
    "    new_img_path = path_images/img_path.name\n",
    "    new_mask_path = path_masks/msk_path.name\n",
    "    copyfile(img_path, new_img_path)\n",
    "    Image.fromarray(msk).save(new_mask_path)"
   ]
  },
  {
   "cell_type": "code",
   "execution_count": null,
   "id": "512ea788",
   "metadata": {},
   "outputs": [],
   "source": [
    "assert len(get_files(path_images, extensions='.jpg')) == len(get_files(path_masks, extensions='.png'))"
   ]
  },
  {
   "cell_type": "code",
   "execution_count": null,
   "id": "33b6f4df",
   "metadata": {},
   "outputs": [],
   "source": []
  }
 ],
 "metadata": {
  "interpreter": {
   "hash": "dd7a3dbcd42e9c657f5ca607d0bf27297d7d34da9ea5a5a1a4e2a3a7ac3eee7e"
  },
  "kernelspec": {
   "display_name": "Python (magtiles)",
   "language": "python",
   "name": "python3"
  },
  "language_info": {
   "codemirror_mode": {
    "name": "ipython",
    "version": 3
   },
   "file_extension": ".py",
   "mimetype": "text/x-python",
   "name": "python",
   "nbconvert_exporter": "python",
   "pygments_lexer": "ipython3",
   "version": "3.9.7"
  }
 },
 "nbformat": 4,
 "nbformat_minor": 5
}

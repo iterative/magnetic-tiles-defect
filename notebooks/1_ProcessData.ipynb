{
 "cells": [
  {
   "cell_type": "code",
   "execution_count": 1,
   "id": "356c557e",
   "metadata": {},
   "outputs": [],
   "source": [
    "import sys\n",
    "sys.path.append(\"..\")"
   ]
  },
  {
   "cell_type": "code",
   "execution_count": 2,
   "id": "86bbab5d",
   "metadata": {},
   "outputs": [
    {
     "name": "stderr",
     "output_type": "stream",
     "text": [
      "/home/ubuntu/.virtualenvs/magnetic-tiles-defect-clR5l9w5/lib/python3.8/site-packages/tqdm/auto.py:22: TqdmWarning: IProgress not found. Please update jupyter and ipywidgets. See https://ipywidgets.readthedocs.io/en/stable/user_install.html\n",
      "  from .autonotebook import tqdm as notebook_tqdm\n"
     ]
    }
   ],
   "source": [
    "import numpy as np\n",
    "\n",
    "from fastai.vision.all import *\n",
    "from pathlib import Path\n",
    "from tqdm.auto import tqdm\n",
    "from shutil import copyfile, rmtree, move"
   ]
  },
  {
   "cell_type": "code",
   "execution_count": 3,
   "id": "ebe42f33",
   "metadata": {},
   "outputs": [],
   "source": [
    "from urllib.request import urlopen\n",
    "from io import BytesIO\n",
    "from zipfile import ZipFile\n",
    "\n",
    "def download_and_unzip(url, extract_to='.'):\n",
    "    http_response = urlopen(url)\n",
    "    zipfile = ZipFile(BytesIO(http_response.read()))\n",
    "    zipfile.extractall(path=extract_to)"
   ]
  },
  {
   "cell_type": "code",
   "execution_count": 4,
   "id": "9079cd8f",
   "metadata": {},
   "outputs": [
    {
     "name": "stdout",
     "output_type": "stream",
     "text": [
      "/home/ubuntu/magnetic-tiles-defect\n",
      "/home/ubuntu/magnetic-tiles-defect/data\n"
     ]
    }
   ],
   "source": [
    "PROJ_PATH = Path.cwd().parent\n",
    "DATA_PATH = PROJ_PATH/'data'\n",
    "print(PROJ_PATH)\n",
    "print(DATA_PATH)"
   ]
  },
  {
   "cell_type": "code",
   "execution_count": 5,
   "id": "c573fcda",
   "metadata": {},
   "outputs": [],
   "source": [
    "download_and_unzip(url='https://github.com/abin24/Magnetic-tile-defect-datasets./archive/refs/heads/master.zip',\n",
    "                   extract_to=DATA_PATH)\n",
    "\n",
    "extract_dir = DATA_PATH/'Magnetic-tile-defect-datasets.-master'"
   ]
  },
  {
   "cell_type": "code",
   "execution_count": 6,
   "id": "24cf2e0d",
   "metadata": {},
   "outputs": [],
   "source": [
    "dataset_path = DATA_PATH/'MAGNETIC_TILE_SURFACE_DEFECTS'\n",
    "if dataset_path.is_dir():\n",
    "    rmtree(dataset_path)\n",
    "if extract_dir.is_dir():\n",
    "    move(extract_dir, dataset_path)"
   ]
  },
  {
   "cell_type": "code",
   "execution_count": 7,
   "id": "11607ebf",
   "metadata": {},
   "outputs": [
    {
     "data": {
      "text/plain": [
       "(#9) [Path('/home/ubuntu/magnetic-tiles-defect/data/MAGNETIC_TILE_SURFACE_DEFECTS/MT_Uneven'),Path('/home/ubuntu/magnetic-tiles-defect/data/MAGNETIC_TILE_SURFACE_DEFECTS/MT_Break'),Path('/home/ubuntu/magnetic-tiles-defect/data/MAGNETIC_TILE_SURFACE_DEFECTS/MT_Fray'),Path('/home/ubuntu/magnetic-tiles-defect/data/MAGNETIC_TILE_SURFACE_DEFECTS/MT_Crack'),Path('/home/ubuntu/magnetic-tiles-defect/data/MAGNETIC_TILE_SURFACE_DEFECTS/MT_Free'),Path('/home/ubuntu/magnetic-tiles-defect/data/MAGNETIC_TILE_SURFACE_DEFECTS/MT_Blowhole'),Path('/home/ubuntu/magnetic-tiles-defect/data/MAGNETIC_TILE_SURFACE_DEFECTS/dataset.png'),Path('/home/ubuntu/magnetic-tiles-defect/data/MAGNETIC_TILE_SURFACE_DEFECTS/dataset.jpg'),Path('/home/ubuntu/magnetic-tiles-defect/data/MAGNETIC_TILE_SURFACE_DEFECTS/README.md')]"
      ]
     },
     "execution_count": 7,
     "metadata": {},
     "output_type": "execute_result"
    }
   ],
   "source": [
    "dataset_path.ls()"
   ]
  },
  {
   "cell_type": "code",
   "execution_count": 8,
   "id": "643d5851",
   "metadata": {},
   "outputs": [],
   "source": [
    "if (dataset_path/'MT_Free').exists():\n",
    "    rmtree(dataset_path/'MT_Free')"
   ]
  },
  {
   "cell_type": "code",
   "execution_count": 9,
   "id": "958ec0db",
   "metadata": {},
   "outputs": [
    {
     "data": {
      "text/plain": [
       "['MT_Uneven', 'MT_Break', 'MT_Fray', 'MT_Crack', 'MT_Blowhole']"
      ]
     },
     "execution_count": 9,
     "metadata": {},
     "output_type": "execute_result"
    }
   ],
   "source": [
    "classes = []\n",
    "for ii in (dataset_path).ls():\n",
    "    if ii.is_dir() and ii.stem.startswith('MT_'):\n",
    "        classes.append(ii.stem)\n",
    "classes"
   ]
  },
  {
   "cell_type": "code",
   "execution_count": 10,
   "id": "8b3ef0a1",
   "metadata": {},
   "outputs": [
    {
     "data": {
      "text/plain": [
       "{'MT_Uneven': 1, 'MT_Break': 2, 'MT_Fray': 3, 'MT_Crack': 4, 'MT_Blowhole': 5}"
      ]
     },
     "execution_count": 10,
     "metadata": {},
     "output_type": "execute_result"
    }
   ],
   "source": [
    "classes_dict = {c:i+1 for i, c in enumerate(classes)}\n",
    "classes_dict"
   ]
  },
  {
   "cell_type": "code",
   "execution_count": 11,
   "id": "0276b44a",
   "metadata": {},
   "outputs": [
    {
     "data": {
      "text/plain": [
       "392"
      ]
     },
     "execution_count": 11,
     "metadata": {},
     "output_type": "execute_result"
    }
   ],
   "source": [
    "img_paths = [get_files(dataset_path/c, extensions='.jpg') for c in classes]\n",
    "img_paths = [ii for sublist in img_paths for ii in sublist]\n",
    "len(img_paths)"
   ]
  },
  {
   "cell_type": "code",
   "execution_count": 12,
   "id": "9828fd68",
   "metadata": {},
   "outputs": [
    {
     "data": {
      "text/plain": [
       "392"
      ]
     },
     "execution_count": 12,
     "metadata": {},
     "output_type": "execute_result"
    }
   ],
   "source": [
    "msk_paths = [get_files(dataset_path/c, extensions='.png') for c in classes]\n",
    "msk_paths = [ii for sublist in msk_paths for ii in sublist]\n",
    "len(msk_paths)"
   ]
  },
  {
   "cell_type": "code",
   "execution_count": 13,
   "id": "18bf9537",
   "metadata": {},
   "outputs": [
    {
     "data": {
      "text/plain": [
       "[Path('/home/ubuntu/magnetic-tiles-defect/data/MAGNETIC_TILE_SURFACE_DEFECTS/MT_Uneven/Imgs/exp1_num_274094.png'),\n",
       " Path('/home/ubuntu/magnetic-tiles-defect/data/MAGNETIC_TILE_SURFACE_DEFECTS/MT_Uneven/Imgs/exp5_num_24876.png'),\n",
       " Path('/home/ubuntu/magnetic-tiles-defect/data/MAGNETIC_TILE_SURFACE_DEFECTS/MT_Uneven/Imgs/exp3_num_24829.png'),\n",
       " Path('/home/ubuntu/magnetic-tiles-defect/data/MAGNETIC_TILE_SURFACE_DEFECTS/MT_Uneven/Imgs/exp5_num_311887.png'),\n",
       " Path('/home/ubuntu/magnetic-tiles-defect/data/MAGNETIC_TILE_SURFACE_DEFECTS/MT_Uneven/Imgs/exp6_num_124787.png'),\n",
       " Path('/home/ubuntu/magnetic-tiles-defect/data/MAGNETIC_TILE_SURFACE_DEFECTS/MT_Uneven/Imgs/exp4_num_573.png'),\n",
       " Path('/home/ubuntu/magnetic-tiles-defect/data/MAGNETIC_TILE_SURFACE_DEFECTS/MT_Uneven/Imgs/exp3_num_274138.png'),\n",
       " Path('/home/ubuntu/magnetic-tiles-defect/data/MAGNETIC_TILE_SURFACE_DEFECTS/MT_Uneven/Imgs/exp6_num_187011.png'),\n",
       " Path('/home/ubuntu/magnetic-tiles-defect/data/MAGNETIC_TILE_SURFACE_DEFECTS/MT_Uneven/Imgs/exp6_num_311924.png'),\n",
       " Path('/home/ubuntu/magnetic-tiles-defect/data/MAGNETIC_TILE_SURFACE_DEFECTS/MT_Uneven/Imgs/exp5_num_28404.png'),\n",
       " Path('/home/ubuntu/magnetic-tiles-defect/data/MAGNETIC_TILE_SURFACE_DEFECTS/MT_Uneven/Imgs/exp1_num_155300.png'),\n",
       " Path('/home/ubuntu/magnetic-tiles-defect/data/MAGNETIC_TILE_SURFACE_DEFECTS/MT_Uneven/Imgs/exp6_num_270255.png'),\n",
       " Path('/home/ubuntu/magnetic-tiles-defect/data/MAGNETIC_TILE_SURFACE_DEFECTS/MT_Uneven/Imgs/exp2_num_172267.png'),\n",
       " Path('/home/ubuntu/magnetic-tiles-defect/data/MAGNETIC_TILE_SURFACE_DEFECTS/MT_Uneven/Imgs/exp1_num_313478.png'),\n",
       " Path('/home/ubuntu/magnetic-tiles-defect/data/MAGNETIC_TILE_SURFACE_DEFECTS/MT_Uneven/Imgs/exp5_num_592.png'),\n",
       " Path('/home/ubuntu/magnetic-tiles-defect/data/MAGNETIC_TILE_SURFACE_DEFECTS/MT_Uneven/Imgs/exp3_num_186885.png'),\n",
       " Path('/home/ubuntu/magnetic-tiles-defect/data/MAGNETIC_TILE_SURFACE_DEFECTS/MT_Uneven/Imgs/exp5_num_352540.png'),\n",
       " Path('/home/ubuntu/magnetic-tiles-defect/data/MAGNETIC_TILE_SURFACE_DEFECTS/MT_Uneven/Imgs/exp1_num_129031.png'),\n",
       " Path('/home/ubuntu/magnetic-tiles-defect/data/MAGNETIC_TILE_SURFACE_DEFECTS/MT_Uneven/Imgs/exp5_num_313536.png'),\n",
       " Path('/home/ubuntu/magnetic-tiles-defect/data/MAGNETIC_TILE_SURFACE_DEFECTS/MT_Uneven/Imgs/exp3_num_352516.png'),\n",
       " Path('/home/ubuntu/magnetic-tiles-defect/data/MAGNETIC_TILE_SURFACE_DEFECTS/MT_Uneven/Imgs/exp3_num_270169.png'),\n",
       " Path('/home/ubuntu/magnetic-tiles-defect/data/MAGNETIC_TILE_SURFACE_DEFECTS/MT_Uneven/Imgs/exp3_num_129069.png'),\n",
       " Path('/home/ubuntu/magnetic-tiles-defect/data/MAGNETIC_TILE_SURFACE_DEFECTS/MT_Uneven/Imgs/exp2_num_28359.png'),\n",
       " Path('/home/ubuntu/magnetic-tiles-defect/data/MAGNETIC_TILE_SURFACE_DEFECTS/MT_Uneven/Imgs/exp2_num_139820.png'),\n",
       " Path('/home/ubuntu/magnetic-tiles-defect/data/MAGNETIC_TILE_SURFACE_DEFECTS/MT_Uneven/Imgs/exp5_num_172332.png'),\n",
       " Path('/home/ubuntu/magnetic-tiles-defect/data/MAGNETIC_TILE_SURFACE_DEFECTS/MT_Uneven/Imgs/exp6_num_313568.png'),\n",
       " Path('/home/ubuntu/magnetic-tiles-defect/data/MAGNETIC_TILE_SURFACE_DEFECTS/MT_Uneven/Imgs/exp1_num_33365.png'),\n",
       " Path('/home/ubuntu/magnetic-tiles-defect/data/MAGNETIC_TILE_SURFACE_DEFECTS/MT_Uneven/Imgs/exp2_num_186858.png'),\n",
       " Path('/home/ubuntu/magnetic-tiles-defect/data/MAGNETIC_TILE_SURFACE_DEFECTS/MT_Uneven/Imgs/exp4_num_313519.png'),\n",
       " Path('/home/ubuntu/magnetic-tiles-defect/data/MAGNETIC_TILE_SURFACE_DEFECTS/MT_Uneven/Imgs/exp2_num_24815.png'),\n",
       " Path('/home/ubuntu/magnetic-tiles-defect/data/MAGNETIC_TILE_SURFACE_DEFECTS/MT_Uneven/Imgs/exp6_num_129148.png'),\n",
       " Path('/home/ubuntu/magnetic-tiles-defect/data/MAGNETIC_TILE_SURFACE_DEFECTS/MT_Uneven/Imgs/exp5_num_129103.png'),\n",
       " Path('/home/ubuntu/magnetic-tiles-defect/data/MAGNETIC_TILE_SURFACE_DEFECTS/MT_Uneven/Imgs/exp6_num_25007.png'),\n",
       " Path('/home/ubuntu/magnetic-tiles-defect/data/MAGNETIC_TILE_SURFACE_DEFECTS/MT_Uneven/Imgs/exp2_num_124592.png'),\n",
       " Path('/home/ubuntu/magnetic-tiles-defect/data/MAGNETIC_TILE_SURFACE_DEFECTS/MT_Uneven/Imgs/exp5_num_274174.png'),\n",
       " Path('/home/ubuntu/magnetic-tiles-defect/data/MAGNETIC_TILE_SURFACE_DEFECTS/MT_Uneven/Imgs/exp1_num_172241.png'),\n",
       " Path('/home/ubuntu/magnetic-tiles-defect/data/MAGNETIC_TILE_SURFACE_DEFECTS/MT_Uneven/Imgs/exp2_num_313494.png'),\n",
       " Path('/home/ubuntu/magnetic-tiles-defect/data/MAGNETIC_TILE_SURFACE_DEFECTS/MT_Uneven/Imgs/exp3_num_311847.png'),\n",
       " Path('/home/ubuntu/magnetic-tiles-defect/data/MAGNETIC_TILE_SURFACE_DEFECTS/MT_Uneven/Imgs/exp4_num_270184.png'),\n",
       " Path('/home/ubuntu/magnetic-tiles-defect/data/MAGNETIC_TILE_SURFACE_DEFECTS/MT_Uneven/Imgs/exp5_num_155415.png'),\n",
       " Path('/home/ubuntu/magnetic-tiles-defect/data/MAGNETIC_TILE_SURFACE_DEFECTS/MT_Uneven/Imgs/exp5_num_139883.png'),\n",
       " Path('/home/ubuntu/magnetic-tiles-defect/data/MAGNETIC_TILE_SURFACE_DEFECTS/MT_Uneven/Imgs/exp6_num_139916.png'),\n",
       " Path('/home/ubuntu/magnetic-tiles-defect/data/MAGNETIC_TILE_SURFACE_DEFECTS/MT_Uneven/Imgs/exp2_num_542.png'),\n",
       " Path('/home/ubuntu/magnetic-tiles-defect/data/MAGNETIC_TILE_SURFACE_DEFECTS/MT_Uneven/Imgs/exp5_num_186953.png'),\n",
       " Path('/home/ubuntu/magnetic-tiles-defect/data/MAGNETIC_TILE_SURFACE_DEFECTS/MT_Uneven/Imgs/exp1_num_109232.png'),\n",
       " Path('/home/ubuntu/magnetic-tiles-defect/data/MAGNETIC_TILE_SURFACE_DEFECTS/MT_Uneven/Imgs/exp1_num_45007.png'),\n",
       " Path('/home/ubuntu/magnetic-tiles-defect/data/MAGNETIC_TILE_SURFACE_DEFECTS/MT_Uneven/Imgs/exp1_num_28341.png'),\n",
       " Path('/home/ubuntu/magnetic-tiles-defect/data/MAGNETIC_TILE_SURFACE_DEFECTS/MT_Uneven/Imgs/exp3_num_28373.png'),\n",
       " Path('/home/ubuntu/magnetic-tiles-defect/data/MAGNETIC_TILE_SURFACE_DEFECTS/MT_Uneven/Imgs/exp4_num_24843.png'),\n",
       " Path('/home/ubuntu/magnetic-tiles-defect/data/MAGNETIC_TILE_SURFACE_DEFECTS/MT_Uneven/Imgs/exp1_num_270128.png'),\n",
       " Path('/home/ubuntu/magnetic-tiles-defect/data/MAGNETIC_TILE_SURFACE_DEFECTS/MT_Uneven/Imgs/exp5_num_124744.png'),\n",
       " Path('/home/ubuntu/magnetic-tiles-defect/data/MAGNETIC_TILE_SURFACE_DEFECTS/MT_Uneven/Imgs/exp2_num_311834.png'),\n",
       " Path('/home/ubuntu/magnetic-tiles-defect/data/MAGNETIC_TILE_SURFACE_DEFECTS/MT_Uneven/Imgs/exp6_num_172365.png'),\n",
       " Path('/home/ubuntu/magnetic-tiles-defect/data/MAGNETIC_TILE_SURFACE_DEFECTS/MT_Uneven/Imgs/exp4_num_274154.png'),\n",
       " Path('/home/ubuntu/magnetic-tiles-defect/data/MAGNETIC_TILE_SURFACE_DEFECTS/MT_Uneven/Imgs/exp3_num_155360.png'),\n",
       " Path('/home/ubuntu/magnetic-tiles-defect/data/MAGNETIC_TILE_SURFACE_DEFECTS/MT_Uneven/Imgs/exp6_num_155478.png'),\n",
       " Path('/home/ubuntu/magnetic-tiles-defect/data/MAGNETIC_TILE_SURFACE_DEFECTS/MT_Uneven/Imgs/exp5_num_109313.png'),\n",
       " Path('/home/ubuntu/magnetic-tiles-defect/data/MAGNETIC_TILE_SURFACE_DEFECTS/MT_Uneven/Imgs/exp5_num_45084.png'),\n",
       " Path('/home/ubuntu/magnetic-tiles-defect/data/MAGNETIC_TILE_SURFACE_DEFECTS/MT_Uneven/Imgs/exp6_num_33541.png'),\n",
       " Path('/home/ubuntu/magnetic-tiles-defect/data/MAGNETIC_TILE_SURFACE_DEFECTS/MT_Uneven/Imgs/exp5_num_270218.png'),\n",
       " Path('/home/ubuntu/magnetic-tiles-defect/data/MAGNETIC_TILE_SURFACE_DEFECTS/MT_Uneven/Imgs/exp2_num_274120.png'),\n",
       " Path('/home/ubuntu/magnetic-tiles-defect/data/MAGNETIC_TILE_SURFACE_DEFECTS/MT_Uneven/Imgs/exp2_num_352504.png'),\n",
       " Path('/home/ubuntu/magnetic-tiles-defect/data/MAGNETIC_TILE_SURFACE_DEFECTS/MT_Uneven/Imgs/exp3_num_139838.png'),\n",
       " Path('/home/ubuntu/magnetic-tiles-defect/data/MAGNETIC_TILE_SURFACE_DEFECTS/MT_Uneven/Imgs/exp3_num_124629.png'),\n",
       " Path('/home/ubuntu/magnetic-tiles-defect/data/MAGNETIC_TILE_SURFACE_DEFECTS/MT_Uneven/Imgs/exp2_num_45028.png'),\n",
       " Path('/home/ubuntu/magnetic-tiles-defect/data/MAGNETIC_TILE_SURFACE_DEFECTS/MT_Uneven/Imgs/exp1_num_524.png'),\n",
       " Path('/home/ubuntu/magnetic-tiles-defect/data/MAGNETIC_TILE_SURFACE_DEFECTS/MT_Uneven/Imgs/exp4_num_186909.png'),\n",
       " Path('/home/ubuntu/magnetic-tiles-defect/data/MAGNETIC_TILE_SURFACE_DEFECTS/MT_Uneven/Imgs/exp3_num_557.png'),\n",
       " Path('/home/ubuntu/magnetic-tiles-defect/data/MAGNETIC_TILE_SURFACE_DEFECTS/MT_Uneven/Imgs/exp4_num_45057.png'),\n",
       " Path('/home/ubuntu/magnetic-tiles-defect/data/MAGNETIC_TILE_SURFACE_DEFECTS/MT_Uneven/Imgs/exp0_num_461.png'),\n",
       " Path('/home/ubuntu/magnetic-tiles-defect/data/MAGNETIC_TILE_SURFACE_DEFECTS/MT_Uneven/Imgs/exp3_num_109271.png'),\n",
       " Path('/home/ubuntu/magnetic-tiles-defect/data/MAGNETIC_TILE_SURFACE_DEFECTS/MT_Uneven/Imgs/exp4_num_311863.png'),\n",
       " Path('/home/ubuntu/magnetic-tiles-defect/data/MAGNETIC_TILE_SURFACE_DEFECTS/MT_Uneven/Imgs/exp2_num_155333.png'),\n",
       " Path('/home/ubuntu/magnetic-tiles-defect/data/MAGNETIC_TILE_SURFACE_DEFECTS/MT_Uneven/Imgs/exp3_num_313507.png'),\n",
       " Path('/home/ubuntu/magnetic-tiles-defect/data/MAGNETIC_TILE_SURFACE_DEFECTS/MT_Uneven/Imgs/exp2_num_109256.png'),\n",
       " Path('/home/ubuntu/magnetic-tiles-defect/data/MAGNETIC_TILE_SURFACE_DEFECTS/MT_Uneven/Imgs/exp4_num_172304.png'),\n",
       " Path('/home/ubuntu/magnetic-tiles-defect/data/MAGNETIC_TILE_SURFACE_DEFECTS/MT_Uneven/Imgs/exp2_num_33380.png'),\n",
       " Path('/home/ubuntu/magnetic-tiles-defect/data/MAGNETIC_TILE_SURFACE_DEFECTS/MT_Uneven/Imgs/exp4_num_124690.png'),\n",
       " Path('/home/ubuntu/magnetic-tiles-defect/data/MAGNETIC_TILE_SURFACE_DEFECTS/MT_Uneven/Imgs/exp3_num_172286.png'),\n",
       " Path('/home/ubuntu/magnetic-tiles-defect/data/MAGNETIC_TILE_SURFACE_DEFECTS/MT_Uneven/Imgs/exp5_num_33487.png'),\n",
       " Path('/home/ubuntu/magnetic-tiles-defect/data/MAGNETIC_TILE_SURFACE_DEFECTS/MT_Uneven/Imgs/exp6_num_352572.png'),\n",
       " Path('/home/ubuntu/magnetic-tiles-defect/data/MAGNETIC_TILE_SURFACE_DEFECTS/MT_Uneven/Imgs/exp6_num_28424.png'),\n",
       " Path('/home/ubuntu/magnetic-tiles-defect/data/MAGNETIC_TILE_SURFACE_DEFECTS/MT_Uneven/Imgs/exp2_num_129056.png'),\n",
       " Path('/home/ubuntu/magnetic-tiles-defect/data/MAGNETIC_TILE_SURFACE_DEFECTS/MT_Uneven/Imgs/exp4_num_155384.png'),\n",
       " Path('/home/ubuntu/magnetic-tiles-defect/data/MAGNETIC_TILE_SURFACE_DEFECTS/MT_Uneven/Imgs/exp6_num_45116.png'),\n",
       " Path('/home/ubuntu/magnetic-tiles-defect/data/MAGNETIC_TILE_SURFACE_DEFECTS/MT_Uneven/Imgs/exp4_num_352527.png'),\n",
       " Path('/home/ubuntu/magnetic-tiles-defect/data/MAGNETIC_TILE_SURFACE_DEFECTS/MT_Uneven/Imgs/exp1_num_139798.png'),\n",
       " Path('/home/ubuntu/magnetic-tiles-defect/data/MAGNETIC_TILE_SURFACE_DEFECTS/MT_Uneven/Imgs/exp3_num_33395.png'),\n",
       " Path('/home/ubuntu/magnetic-tiles-defect/data/MAGNETIC_TILE_SURFACE_DEFECTS/MT_Uneven/Imgs/exp1_num_311809.png'),\n",
       " Path('/home/ubuntu/magnetic-tiles-defect/data/MAGNETIC_TILE_SURFACE_DEFECTS/MT_Uneven/Imgs/exp3_num_45042.png'),\n",
       " Path('/home/ubuntu/magnetic-tiles-defect/data/MAGNETIC_TILE_SURFACE_DEFECTS/MT_Uneven/Imgs/exp4_num_109286.png'),\n",
       " Path('/home/ubuntu/magnetic-tiles-defect/data/MAGNETIC_TILE_SURFACE_DEFECTS/MT_Uneven/Imgs/exp2_num_270153.png'),\n",
       " Path('/home/ubuntu/magnetic-tiles-defect/data/MAGNETIC_TILE_SURFACE_DEFECTS/MT_Uneven/Imgs/exp4_num_139856.png'),\n",
       " Path('/home/ubuntu/magnetic-tiles-defect/data/MAGNETIC_TILE_SURFACE_DEFECTS/MT_Uneven/Imgs/exp6_num_274218.png'),\n",
       " Path('/home/ubuntu/magnetic-tiles-defect/data/MAGNETIC_TILE_SURFACE_DEFECTS/MT_Uneven/Imgs/exp4_num_129083.png'),\n",
       " Path('/home/ubuntu/magnetic-tiles-defect/data/MAGNETIC_TILE_SURFACE_DEFECTS/MT_Uneven/Imgs/exp6_num_109350.png'),\n",
       " Path('/home/ubuntu/magnetic-tiles-defect/data/MAGNETIC_TILE_SURFACE_DEFECTS/MT_Uneven/Imgs/exp1_num_24793.png'),\n",
       " Path('/home/ubuntu/magnetic-tiles-defect/data/MAGNETIC_TILE_SURFACE_DEFECTS/MT_Uneven/Imgs/exp4_num_33407.png'),\n",
       " Path('/home/ubuntu/magnetic-tiles-defect/data/MAGNETIC_TILE_SURFACE_DEFECTS/MT_Uneven/Imgs/exp1_num_186826.png'),\n",
       " Path('/home/ubuntu/magnetic-tiles-defect/data/MAGNETIC_TILE_SURFACE_DEFECTS/MT_Uneven/Imgs/exp4_num_28388.png'),\n",
       " Path('/home/ubuntu/magnetic-tiles-defect/data/MAGNETIC_TILE_SURFACE_DEFECTS/MT_Uneven/Imgs/exp6_num_628.png'),\n",
       " Path('/home/ubuntu/magnetic-tiles-defect/data/MAGNETIC_TILE_SURFACE_DEFECTS/MT_Uneven/Imgs/exp1_num_124236.png'),\n",
       " Path('/home/ubuntu/magnetic-tiles-defect/data/MAGNETIC_TILE_SURFACE_DEFECTS/MT_Uneven/Imgs/exp1_num_352479.png'),\n",
       " Path('/home/ubuntu/magnetic-tiles-defect/data/MAGNETIC_TILE_SURFACE_DEFECTS/MT_Break/Imgs/exp5_num_98336.png'),\n",
       " Path('/home/ubuntu/magnetic-tiles-defect/data/MAGNETIC_TILE_SURFACE_DEFECTS/MT_Break/Imgs/exp4_num_304328.png'),\n",
       " Path('/home/ubuntu/magnetic-tiles-defect/data/MAGNETIC_TILE_SURFACE_DEFECTS/MT_Break/Imgs/exp1_num_62553.png'),\n",
       " Path('/home/ubuntu/magnetic-tiles-defect/data/MAGNETIC_TILE_SURFACE_DEFECTS/MT_Break/Imgs/exp4_num_241939.png'),\n",
       " Path('/home/ubuntu/magnetic-tiles-defect/data/MAGNETIC_TILE_SURFACE_DEFECTS/MT_Break/Imgs/exp4_num_98305.png'),\n",
       " Path('/home/ubuntu/magnetic-tiles-defect/data/MAGNETIC_TILE_SURFACE_DEFECTS/MT_Break/Imgs/exp5_num_284552.png'),\n",
       " Path('/home/ubuntu/magnetic-tiles-defect/data/MAGNETIC_TILE_SURFACE_DEFECTS/MT_Break/Imgs/exp6_num_98402.png'),\n",
       " Path('/home/ubuntu/magnetic-tiles-defect/data/MAGNETIC_TILE_SURFACE_DEFECTS/MT_Break/Imgs/exp5_num_276416.png'),\n",
       " Path('/home/ubuntu/magnetic-tiles-defect/data/MAGNETIC_TILE_SURFACE_DEFECTS/MT_Break/Imgs/exp5_num_271434.png'),\n",
       " Path('/home/ubuntu/magnetic-tiles-defect/data/MAGNETIC_TILE_SURFACE_DEFECTS/MT_Break/Imgs/exp4_num_348673.png'),\n",
       " Path('/home/ubuntu/magnetic-tiles-defect/data/MAGNETIC_TILE_SURFACE_DEFECTS/MT_Break/Imgs/exp5_num_194256.png'),\n",
       " Path('/home/ubuntu/magnetic-tiles-defect/data/MAGNETIC_TILE_SURFACE_DEFECTS/MT_Break/Imgs/exp5_num_105879.png'),\n",
       " Path('/home/ubuntu/magnetic-tiles-defect/data/MAGNETIC_TILE_SURFACE_DEFECTS/MT_Break/Imgs/exp3_num_271400.png'),\n",
       " Path('/home/ubuntu/magnetic-tiles-defect/data/MAGNETIC_TILE_SURFACE_DEFECTS/MT_Break/Imgs/exp6_num_194304.png'),\n",
       " Path('/home/ubuntu/magnetic-tiles-defect/data/MAGNETIC_TILE_SURFACE_DEFECTS/MT_Break/Imgs/exp3_num_26146.png'),\n",
       " Path('/home/ubuntu/magnetic-tiles-defect/data/MAGNETIC_TILE_SURFACE_DEFECTS/MT_Break/Imgs/exp6_num_271512.png'),\n",
       " Path('/home/ubuntu/magnetic-tiles-defect/data/MAGNETIC_TILE_SURFACE_DEFECTS/MT_Break/Imgs/exp3_num_77583.png'),\n",
       " Path('/home/ubuntu/magnetic-tiles-defect/data/MAGNETIC_TILE_SURFACE_DEFECTS/MT_Break/Imgs/exp4_num_271416.png'),\n",
       " Path('/home/ubuntu/magnetic-tiles-defect/data/MAGNETIC_TILE_SURFACE_DEFECTS/MT_Break/Imgs/exp6_num_105927.png'),\n",
       " Path('/home/ubuntu/magnetic-tiles-defect/data/MAGNETIC_TILE_SURFACE_DEFECTS/MT_Break/Imgs/exp5_num_242089.png'),\n",
       " Path('/home/ubuntu/magnetic-tiles-defect/data/MAGNETIC_TILE_SURFACE_DEFECTS/MT_Break/Imgs/exp6_num_276451.png'),\n",
       " Path('/home/ubuntu/magnetic-tiles-defect/data/MAGNETIC_TILE_SURFACE_DEFECTS/MT_Break/Imgs/exp1_num_241889.png'),\n",
       " Path('/home/ubuntu/magnetic-tiles-defect/data/MAGNETIC_TILE_SURFACE_DEFECTS/MT_Break/Imgs/exp2_num_276373.png'),\n",
       " Path('/home/ubuntu/magnetic-tiles-defect/data/MAGNETIC_TILE_SURFACE_DEFECTS/MT_Break/Imgs/exp6_num_348888.png'),\n",
       " Path('/home/ubuntu/magnetic-tiles-defect/data/MAGNETIC_TILE_SURFACE_DEFECTS/MT_Break/Imgs/exp3_num_194220.png'),\n",
       " Path('/home/ubuntu/magnetic-tiles-defect/data/MAGNETIC_TILE_SURFACE_DEFECTS/MT_Break/Imgs/exp4_num_105851.png'),\n",
       " Path('/home/ubuntu/magnetic-tiles-defect/data/MAGNETIC_TILE_SURFACE_DEFECTS/MT_Break/Imgs/exp2_num_62577.png'),\n",
       " Path('/home/ubuntu/magnetic-tiles-defect/data/MAGNETIC_TILE_SURFACE_DEFECTS/MT_Break/Imgs/exp4_num_116999.png'),\n",
       " Path('/home/ubuntu/magnetic-tiles-defect/data/MAGNETIC_TILE_SURFACE_DEFECTS/MT_Break/Imgs/exp2_num_98102.png'),\n",
       " Path('/home/ubuntu/magnetic-tiles-defect/data/MAGNETIC_TILE_SURFACE_DEFECTS/MT_Break/Imgs/exp5_num_149023.png'),\n",
       " Path('/home/ubuntu/magnetic-tiles-defect/data/MAGNETIC_TILE_SURFACE_DEFECTS/MT_Break/Imgs/exp3_num_276387.png'),\n",
       " Path('/home/ubuntu/magnetic-tiles-defect/data/MAGNETIC_TILE_SURFACE_DEFECTS/MT_Break/Imgs/exp5_num_348696.png'),\n",
       " Path('/home/ubuntu/magnetic-tiles-defect/data/MAGNETIC_TILE_SURFACE_DEFECTS/MT_Break/Imgs/exp4_num_284532.png'),\n",
       " Path('/home/ubuntu/magnetic-tiles-defect/data/MAGNETIC_TILE_SURFACE_DEFECTS/MT_Break/Imgs/exp1_num_98080.png'),\n",
       " Path('/home/ubuntu/magnetic-tiles-defect/data/MAGNETIC_TILE_SURFACE_DEFECTS/MT_Break/Imgs/exp5_num_304345.png'),\n",
       " Path('/home/ubuntu/magnetic-tiles-defect/data/MAGNETIC_TILE_SURFACE_DEFECTS/MT_Break/Imgs/exp6_num_117060.png'),\n",
       " Path('/home/ubuntu/magnetic-tiles-defect/data/MAGNETIC_TILE_SURFACE_DEFECTS/MT_Break/Imgs/exp2_num_284506.png'),\n",
       " Path('/home/ubuntu/magnetic-tiles-defect/data/MAGNETIC_TILE_SURFACE_DEFECTS/MT_Break/Imgs/exp1_num_194173.png'),\n",
       " Path('/home/ubuntu/magnetic-tiles-defect/data/MAGNETIC_TILE_SURFACE_DEFECTS/MT_Break/Imgs/exp2_num_320673.png'),\n",
       " Path('/home/ubuntu/magnetic-tiles-defect/data/MAGNETIC_TILE_SURFACE_DEFECTS/MT_Break/Imgs/exp4_num_26163.png'),\n",
       " Path('/home/ubuntu/magnetic-tiles-defect/data/MAGNETIC_TILE_SURFACE_DEFECTS/MT_Break/Imgs/exp1_num_116934.png'),\n",
       " Path('/home/ubuntu/magnetic-tiles-defect/data/MAGNETIC_TILE_SURFACE_DEFECTS/MT_Break/Imgs/exp3_num_348661.png'),\n",
       " Path('/home/ubuntu/magnetic-tiles-defect/data/MAGNETIC_TILE_SURFACE_DEFECTS/MT_Break/Imgs/exp2_num_26130.png'),\n",
       " Path('/home/ubuntu/magnetic-tiles-defect/data/MAGNETIC_TILE_SURFACE_DEFECTS/MT_Break/Imgs/exp6_num_149097.png'),\n",
       " Path('/home/ubuntu/magnetic-tiles-defect/data/MAGNETIC_TILE_SURFACE_DEFECTS/MT_Break/Imgs/exp3_num_116981.png'),\n",
       " Path('/home/ubuntu/magnetic-tiles-defect/data/MAGNETIC_TILE_SURFACE_DEFECTS/MT_Break/Imgs/exp1_num_356718.png'),\n",
       " Path('/home/ubuntu/magnetic-tiles-defect/data/MAGNETIC_TILE_SURFACE_DEFECTS/MT_Break/Imgs/exp3_num_148977.png'),\n",
       " Path('/home/ubuntu/magnetic-tiles-defect/data/MAGNETIC_TILE_SURFACE_DEFECTS/MT_Break/Imgs/exp2_num_348648.png'),\n",
       " Path('/home/ubuntu/magnetic-tiles-defect/data/MAGNETIC_TILE_SURFACE_DEFECTS/MT_Break/Imgs/exp5_num_26212.png'),\n",
       " Path('/home/ubuntu/magnetic-tiles-defect/data/MAGNETIC_TILE_SURFACE_DEFECTS/MT_Break/Imgs/exp1_num_304290.png'),\n",
       " Path('/home/ubuntu/magnetic-tiles-defect/data/MAGNETIC_TILE_SURFACE_DEFECTS/MT_Break/Imgs/exp5_num_356780.png'),\n",
       " Path('/home/ubuntu/magnetic-tiles-defect/data/MAGNETIC_TILE_SURFACE_DEFECTS/MT_Break/Imgs/exp6_num_320759.png'),\n",
       " Path('/home/ubuntu/magnetic-tiles-defect/data/MAGNETIC_TILE_SURFACE_DEFECTS/MT_Break/Imgs/exp3_num_241926.png'),\n",
       " Path('/home/ubuntu/magnetic-tiles-defect/data/MAGNETIC_TILE_SURFACE_DEFECTS/MT_Break/Imgs/exp4_num_320705.png'),\n",
       " Path('/home/ubuntu/magnetic-tiles-defect/data/MAGNETIC_TILE_SURFACE_DEFECTS/MT_Break/Imgs/exp1_num_284482.png'),\n",
       " Path('/home/ubuntu/magnetic-tiles-defect/data/MAGNETIC_TILE_SURFACE_DEFECTS/MT_Break/Imgs/exp3_num_356756.png'),\n",
       " Path('/home/ubuntu/magnetic-tiles-defect/data/MAGNETIC_TILE_SURFACE_DEFECTS/MT_Break/Imgs/exp3_num_62592.png'),\n",
       " Path('/home/ubuntu/magnetic-tiles-defect/data/MAGNETIC_TILE_SURFACE_DEFECTS/MT_Break/Imgs/exp2_num_116961.png'),\n",
       " Path('/home/ubuntu/magnetic-tiles-defect/data/MAGNETIC_TILE_SURFACE_DEFECTS/MT_Break/Imgs/exp2_num_105807.png'),\n",
       " Path('/home/ubuntu/magnetic-tiles-defect/data/MAGNETIC_TILE_SURFACE_DEFECTS/MT_Break/Imgs/exp4_num_276401.png'),\n",
       " Path('/home/ubuntu/magnetic-tiles-defect/data/MAGNETIC_TILE_SURFACE_DEFECTS/MT_Break/Imgs/exp4_num_194236.png'),\n",
       " Path('/home/ubuntu/magnetic-tiles-defect/data/MAGNETIC_TILE_SURFACE_DEFECTS/MT_Break/Imgs/exp3_num_105826.png'),\n",
       " Path('/home/ubuntu/magnetic-tiles-defect/data/MAGNETIC_TILE_SURFACE_DEFECTS/MT_Break/Imgs/exp1_num_320649.png'),\n",
       " Path('/home/ubuntu/magnetic-tiles-defect/data/MAGNETIC_TILE_SURFACE_DEFECTS/MT_Break/Imgs/exp6_num_242123.png'),\n",
       " Path('/home/ubuntu/magnetic-tiles-defect/data/MAGNETIC_TILE_SURFACE_DEFECTS/MT_Break/Imgs/exp1_num_26106.png'),\n",
       " Path('/home/ubuntu/magnetic-tiles-defect/data/MAGNETIC_TILE_SURFACE_DEFECTS/MT_Break/Imgs/exp4_num_62606.png'),\n",
       " Path('/home/ubuntu/magnetic-tiles-defect/data/MAGNETIC_TILE_SURFACE_DEFECTS/MT_Break/Imgs/exp6_num_356817.png'),\n",
       " Path('/home/ubuntu/magnetic-tiles-defect/data/MAGNETIC_TILE_SURFACE_DEFECTS/MT_Break/Imgs/exp3_num_304317.png'),\n",
       " Path('/home/ubuntu/magnetic-tiles-defect/data/MAGNETIC_TILE_SURFACE_DEFECTS/MT_Break/Imgs/exp2_num_271384.png'),\n",
       " Path('/home/ubuntu/magnetic-tiles-defect/data/MAGNETIC_TILE_SURFACE_DEFECTS/MT_Break/Imgs/exp3_num_284520.png'),\n",
       " Path('/home/ubuntu/magnetic-tiles-defect/data/MAGNETIC_TILE_SURFACE_DEFECTS/MT_Break/Imgs/exp6_num_26244.png'),\n",
       " Path('/home/ubuntu/magnetic-tiles-defect/data/MAGNETIC_TILE_SURFACE_DEFECTS/MT_Break/Imgs/exp3_num_98116.png'),\n",
       " Path('/home/ubuntu/magnetic-tiles-defect/data/MAGNETIC_TILE_SURFACE_DEFECTS/MT_Break/Imgs/exp1_num_348629.png'),\n",
       " Path('/home/ubuntu/magnetic-tiles-defect/data/MAGNETIC_TILE_SURFACE_DEFECTS/MT_Break/Imgs/exp2_num_304305.png'),\n",
       " Path('/home/ubuntu/magnetic-tiles-defect/data/MAGNETIC_TILE_SURFACE_DEFECTS/MT_Break/Imgs/exp2_num_241913.png'),\n",
       " Path('/home/ubuntu/magnetic-tiles-defect/data/MAGNETIC_TILE_SURFACE_DEFECTS/MT_Break/Imgs/exp6_num_62649.png'),\n",
       " Path('/home/ubuntu/magnetic-tiles-defect/data/MAGNETIC_TILE_SURFACE_DEFECTS/MT_Break/Imgs/exp5_num_62619.png'),\n",
       " Path('/home/ubuntu/magnetic-tiles-defect/data/MAGNETIC_TILE_SURFACE_DEFECTS/MT_Break/Imgs/exp6_num_304361.png'),\n",
       " Path('/home/ubuntu/magnetic-tiles-defect/data/MAGNETIC_TILE_SURFACE_DEFECTS/MT_Break/Imgs/exp3_num_320689.png'),\n",
       " Path('/home/ubuntu/magnetic-tiles-defect/data/MAGNETIC_TILE_SURFACE_DEFECTS/MT_Break/Imgs/exp4_num_356767.png'),\n",
       " Path('/home/ubuntu/magnetic-tiles-defect/data/MAGNETIC_TILE_SURFACE_DEFECTS/MT_Break/Imgs/exp2_num_194202.png'),\n",
       " Path('/home/ubuntu/magnetic-tiles-defect/data/MAGNETIC_TILE_SURFACE_DEFECTS/MT_Break/Imgs/exp2_num_356745.png'),\n",
       " Path('/home/ubuntu/magnetic-tiles-defect/data/MAGNETIC_TILE_SURFACE_DEFECTS/MT_Break/Imgs/exp6_num_284593.png'),\n",
       " Path('/home/ubuntu/magnetic-tiles-defect/data/MAGNETIC_TILE_SURFACE_DEFECTS/MT_Break/Imgs/exp5_num_320724.png'),\n",
       " Path('/home/ubuntu/magnetic-tiles-defect/data/MAGNETIC_TILE_SURFACE_DEFECTS/MT_Break/Imgs/exp1_num_271361.png'),\n",
       " Path('/home/ubuntu/magnetic-tiles-defect/data/MAGNETIC_TILE_SURFACE_DEFECTS/MT_Fray/Imgs/exp6_num_135686.png'),\n",
       " Path('/home/ubuntu/magnetic-tiles-defect/data/MAGNETIC_TILE_SURFACE_DEFECTS/MT_Fray/Imgs/exp1_num_258511.png'),\n",
       " Path('/home/ubuntu/magnetic-tiles-defect/data/MAGNETIC_TILE_SURFACE_DEFECTS/MT_Fray/Imgs/exp6_num_136770.png'),\n",
       " Path('/home/ubuntu/magnetic-tiles-defect/data/MAGNETIC_TILE_SURFACE_DEFECTS/MT_Fray/Imgs/exp4_num_258590.png'),\n",
       " Path('/home/ubuntu/magnetic-tiles-defect/data/MAGNETIC_TILE_SURFACE_DEFECTS/MT_Fray/Imgs/exp1_num_20362.png'),\n",
       " Path('/home/ubuntu/magnetic-tiles-defect/data/MAGNETIC_TILE_SURFACE_DEFECTS/MT_Fray/Imgs/exp1_num_136254.png'),\n",
       " Path('/home/ubuntu/magnetic-tiles-defect/data/MAGNETIC_TILE_SURFACE_DEFECTS/MT_Fray/Imgs/exp4_num_136676.png'),\n",
       " Path('/home/ubuntu/magnetic-tiles-defect/data/MAGNETIC_TILE_SURFACE_DEFECTS/MT_Fray/Imgs/exp5_num_135651.png'),\n",
       " Path('/home/ubuntu/magnetic-tiles-defect/data/MAGNETIC_TILE_SURFACE_DEFECTS/MT_Fray/Imgs/exp3_num_20409.png'),\n",
       " Path('/home/ubuntu/magnetic-tiles-defect/data/MAGNETIC_TILE_SURFACE_DEFECTS/MT_Fray/Imgs/exp2_num_77559.png'),\n",
       " Path('/home/ubuntu/magnetic-tiles-defect/data/MAGNETIC_TILE_SURFACE_DEFECTS/MT_Fray/Imgs/exp6_num_20496.png'),\n",
       " Path('/home/ubuntu/magnetic-tiles-defect/data/MAGNETIC_TILE_SURFACE_DEFECTS/MT_Fray/Imgs/exp5_num_258619.png'),\n",
       " Path('/home/ubuntu/magnetic-tiles-defect/data/MAGNETIC_TILE_SURFACE_DEFECTS/MT_Fray/Imgs/exp4_num_77613.png'),\n",
       " Path('/home/ubuntu/magnetic-tiles-defect/data/MAGNETIC_TILE_SURFACE_DEFECTS/MT_Fray/Imgs/exp6_num_258703.png'),\n",
       " Path('/home/ubuntu/magnetic-tiles-defect/data/MAGNETIC_TILE_SURFACE_DEFECTS/MT_Fray/Imgs/exp5_num_136716.png'),\n",
       " Path('/home/ubuntu/magnetic-tiles-defect/data/MAGNETIC_TILE_SURFACE_DEFECTS/MT_Fray/Imgs/exp5_num_77692.png'),\n",
       " Path('/home/ubuntu/magnetic-tiles-defect/data/MAGNETIC_TILE_SURFACE_DEFECTS/MT_Fray/Imgs/exp6_num_972.png'),\n",
       " Path('/home/ubuntu/magnetic-tiles-defect/data/MAGNETIC_TILE_SURFACE_DEFECTS/MT_Fray/Imgs/exp3_num_135593.png'),\n",
       " Path('/home/ubuntu/magnetic-tiles-defect/data/MAGNETIC_TILE_SURFACE_DEFECTS/MT_Fray/Imgs/exp4_num_20426.png'),\n",
       " Path('/home/ubuntu/magnetic-tiles-defect/data/MAGNETIC_TILE_SURFACE_DEFECTS/MT_Fray/Imgs/exp1_num_331149.png'),\n",
       " Path('/home/ubuntu/magnetic-tiles-defect/data/MAGNETIC_TILE_SURFACE_DEFECTS/MT_Fray/Imgs/exp1_num_77531.png'),\n",
       " Path('/home/ubuntu/magnetic-tiles-defect/data/MAGNETIC_TILE_SURFACE_DEFECTS/MT_Fray/Imgs/exp2_num_20390.png'),\n",
       " Path('/home/ubuntu/magnetic-tiles-defect/data/MAGNETIC_TILE_SURFACE_DEFECTS/MT_Fray/Imgs/exp6_num_77744.png'),\n",
       " Path('/home/ubuntu/magnetic-tiles-defect/data/MAGNETIC_TILE_SURFACE_DEFECTS/MT_Fray/Imgs/exp2_num_258536.png'),\n",
       " Path('/home/ubuntu/magnetic-tiles-defect/data/MAGNETIC_TILE_SURFACE_DEFECTS/MT_Fray/Imgs/exp4_num_135615.png'),\n",
       " Path('/home/ubuntu/magnetic-tiles-defect/data/MAGNETIC_TILE_SURFACE_DEFECTS/MT_Fray/Imgs/exp1_num_135544.png'),\n",
       " Path('/home/ubuntu/magnetic-tiles-defect/data/MAGNETIC_TILE_SURFACE_DEFECTS/MT_Fray/Imgs/exp0_num_797.png'),\n",
       " Path('/home/ubuntu/magnetic-tiles-defect/data/MAGNETIC_TILE_SURFACE_DEFECTS/MT_Fray/Imgs/exp3_num_136351.png'),\n",
       " Path('/home/ubuntu/magnetic-tiles-defect/data/MAGNETIC_TILE_SURFACE_DEFECTS/MT_Fray/Imgs/exp2_num_135572.png'),\n",
       " Path('/home/ubuntu/magnetic-tiles-defect/data/MAGNETIC_TILE_SURFACE_DEFECTS/MT_Fray/Imgs/exp5_num_20449.png'),\n",
       " Path('/home/ubuntu/magnetic-tiles-defect/data/MAGNETIC_TILE_SURFACE_DEFECTS/MT_Fray/Imgs/exp3_num_258558.png'),\n",
       " Path('/home/ubuntu/magnetic-tiles-defect/data/MAGNETIC_TILE_SURFACE_DEFECTS/MT_Fray/Imgs/exp2_num_136286.png'),\n",
       " Path('/home/ubuntu/magnetic-tiles-defect/data/MAGNETIC_TILE_SURFACE_DEFECTS/MT_Crack/Imgs/exp1_num_86828.png'),\n",
       " Path('/home/ubuntu/magnetic-tiles-defect/data/MAGNETIC_TILE_SURFACE_DEFECTS/MT_Crack/Imgs/exp3_num_86892.png'),\n",
       " Path('/home/ubuntu/magnetic-tiles-defect/data/MAGNETIC_TILE_SURFACE_DEFECTS/MT_Crack/Imgs/exp5_num_88170.png'),\n",
       " Path('/home/ubuntu/magnetic-tiles-defect/data/MAGNETIC_TILE_SURFACE_DEFECTS/MT_Crack/Imgs/exp3_num_339854.png'),\n",
       " Path('/home/ubuntu/magnetic-tiles-defect/data/MAGNETIC_TILE_SURFACE_DEFECTS/MT_Crack/Imgs/exp6_num_85665.png'),\n",
       " Path('/home/ubuntu/magnetic-tiles-defect/data/MAGNETIC_TILE_SURFACE_DEFECTS/MT_Crack/Imgs/exp4_num_265677.png'),\n",
       " Path('/home/ubuntu/magnetic-tiles-defect/data/MAGNETIC_TILE_SURFACE_DEFECTS/MT_Crack/Imgs/exp2_num_3211.png'),\n",
       " Path('/home/ubuntu/magnetic-tiles-defect/data/MAGNETIC_TILE_SURFACE_DEFECTS/MT_Crack/Imgs/exp6_num_116623.png'),\n",
       " Path('/home/ubuntu/magnetic-tiles-defect/data/MAGNETIC_TILE_SURFACE_DEFECTS/MT_Crack/Imgs/exp3_num_85897.png'),\n",
       " Path('/home/ubuntu/magnetic-tiles-defect/data/MAGNETIC_TILE_SURFACE_DEFECTS/MT_Crack/Imgs/exp4_num_85998.png'),\n",
       " Path('/home/ubuntu/magnetic-tiles-defect/data/MAGNETIC_TILE_SURFACE_DEFECTS/MT_Crack/Imgs/exp4_num_3234.png'),\n",
       " Path('/home/ubuntu/magnetic-tiles-defect/data/MAGNETIC_TILE_SURFACE_DEFECTS/MT_Crack/Imgs/exp4_num_32185.png'),\n",
       " Path('/home/ubuntu/magnetic-tiles-defect/data/MAGNETIC_TILE_SURFACE_DEFECTS/MT_Crack/Imgs/exp6_num_265737.png'),\n",
       " Path('/home/ubuntu/magnetic-tiles-defect/data/MAGNETIC_TILE_SURFACE_DEFECTS/MT_Crack/Imgs/exp5_num_86031.png'),\n",
       " Path('/home/ubuntu/magnetic-tiles-defect/data/MAGNETIC_TILE_SURFACE_DEFECTS/MT_Crack/Imgs/exp1_num_339819.png'),\n",
       " Path('/home/ubuntu/magnetic-tiles-defect/data/MAGNETIC_TILE_SURFACE_DEFECTS/MT_Crack/Imgs/exp5_num_342212.png'),\n",
       " Path('/home/ubuntu/magnetic-tiles-defect/data/MAGNETIC_TILE_SURFACE_DEFECTS/MT_Crack/Imgs/exp2_num_85846.png'),\n",
       " Path('/home/ubuntu/magnetic-tiles-defect/data/MAGNETIC_TILE_SURFACE_DEFECTS/MT_Crack/Imgs/exp1_num_249594.png'),\n",
       " Path('/home/ubuntu/magnetic-tiles-defect/data/MAGNETIC_TILE_SURFACE_DEFECTS/MT_Crack/Imgs/exp2_num_32153.png'),\n",
       " Path('/home/ubuntu/magnetic-tiles-defect/data/MAGNETIC_TILE_SURFACE_DEFECTS/MT_Crack/Imgs/exp1_num_265613.png'),\n",
       " Path('/home/ubuntu/magnetic-tiles-defect/data/MAGNETIC_TILE_SURFACE_DEFECTS/MT_Crack/Imgs/exp5_num_249786.png'),\n",
       " Path('/home/ubuntu/magnetic-tiles-defect/data/MAGNETIC_TILE_SURFACE_DEFECTS/MT_Crack/Imgs/exp2_num_265639.png'),\n",
       " Path('/home/ubuntu/magnetic-tiles-defect/data/MAGNETIC_TILE_SURFACE_DEFECTS/MT_Crack/Imgs/exp6_num_3279.png'),\n",
       " Path('/home/ubuntu/magnetic-tiles-defect/data/MAGNETIC_TILE_SURFACE_DEFECTS/MT_Crack/Imgs/exp6_num_32235.png'),\n",
       " Path('/home/ubuntu/magnetic-tiles-defect/data/MAGNETIC_TILE_SURFACE_DEFECTS/MT_Crack/Imgs/exp4_num_116553.png'),\n",
       " Path('/home/ubuntu/magnetic-tiles-defect/data/MAGNETIC_TILE_SURFACE_DEFECTS/MT_Crack/Imgs/exp3_num_116541.png'),\n",
       " Path('/home/ubuntu/magnetic-tiles-defect/data/MAGNETIC_TILE_SURFACE_DEFECTS/MT_Crack/Imgs/exp6_num_342249.png'),\n",
       " Path('/home/ubuntu/magnetic-tiles-defect/data/MAGNETIC_TILE_SURFACE_DEFECTS/MT_Crack/Imgs/exp4_num_339867.png'),\n",
       " Path('/home/ubuntu/magnetic-tiles-defect/data/MAGNETIC_TILE_SURFACE_DEFECTS/MT_Crack/Imgs/exp6_num_88201.png'),\n",
       " Path('/home/ubuntu/magnetic-tiles-defect/data/MAGNETIC_TILE_SURFACE_DEFECTS/MT_Crack/Imgs/exp2_num_86854.png'),\n",
       " Path('/home/ubuntu/magnetic-tiles-defect/data/MAGNETIC_TILE_SURFACE_DEFECTS/MT_Crack/Imgs/exp6_num_86064.png'),\n",
       " Path('/home/ubuntu/magnetic-tiles-defect/data/MAGNETIC_TILE_SURFACE_DEFECTS/MT_Crack/Imgs/exp4_num_85602.png'),\n",
       " Path('/home/ubuntu/magnetic-tiles-defect/data/MAGNETIC_TILE_SURFACE_DEFECTS/MT_Crack/Imgs/exp5_num_85642.png'),\n",
       " Path('/home/ubuntu/magnetic-tiles-defect/data/MAGNETIC_TILE_SURFACE_DEFECTS/MT_Crack/Imgs/exp5_num_339932.png'),\n",
       " Path('/home/ubuntu/magnetic-tiles-defect/data/MAGNETIC_TILE_SURFACE_DEFECTS/MT_Crack/Imgs/exp3_num_342176.png'),\n",
       " Path('/home/ubuntu/magnetic-tiles-defect/data/MAGNETIC_TILE_SURFACE_DEFECTS/MT_Crack/Imgs/exp3_num_249637.png'),\n",
       " Path('/home/ubuntu/magnetic-tiles-defect/data/MAGNETIC_TILE_SURFACE_DEFECTS/MT_Crack/Imgs/exp3_num_3223.png'),\n",
       " Path('/home/ubuntu/magnetic-tiles-defect/data/MAGNETIC_TILE_SURFACE_DEFECTS/MT_Crack/Imgs/exp1_num_342140.png'),\n",
       " Path('/home/ubuntu/magnetic-tiles-defect/data/MAGNETIC_TILE_SURFACE_DEFECTS/MT_Crack/Imgs/exp1_num_85781.png'),\n",
       " Path('/home/ubuntu/magnetic-tiles-defect/data/MAGNETIC_TILE_SURFACE_DEFECTS/MT_Crack/Imgs/exp5_num_32201.png'),\n",
       " Path('/home/ubuntu/magnetic-tiles-defect/data/MAGNETIC_TILE_SURFACE_DEFECTS/MT_Crack/Imgs/exp3_num_265659.png'),\n",
       " Path('/home/ubuntu/magnetic-tiles-defect/data/MAGNETIC_TILE_SURFACE_DEFECTS/MT_Crack/Imgs/exp2_num_116527.png'),\n",
       " Path('/home/ubuntu/magnetic-tiles-defect/data/MAGNETIC_TILE_SURFACE_DEFECTS/MT_Crack/Imgs/exp1_num_276355.png'),\n",
       " Path('/home/ubuntu/magnetic-tiles-defect/data/MAGNETIC_TILE_SURFACE_DEFECTS/MT_Crack/Imgs/exp4_num_249762.png'),\n",
       " Path('/home/ubuntu/magnetic-tiles-defect/data/MAGNETIC_TILE_SURFACE_DEFECTS/MT_Crack/Imgs/exp2_num_339841.png'),\n",
       " Path('/home/ubuntu/magnetic-tiles-defect/data/MAGNETIC_TILE_SURFACE_DEFECTS/MT_Crack/Imgs/exp5_num_116575.png'),\n",
       " Path('/home/ubuntu/magnetic-tiles-defect/data/MAGNETIC_TILE_SURFACE_DEFECTS/MT_Crack/Imgs/exp5_num_265695.png'),\n",
       " Path('/home/ubuntu/magnetic-tiles-defect/data/MAGNETIC_TILE_SURFACE_DEFECTS/MT_Crack/Imgs/exp2_num_342162.png'),\n",
       " Path('/home/ubuntu/magnetic-tiles-defect/data/MAGNETIC_TILE_SURFACE_DEFECTS/MT_Crack/Imgs/exp6_num_339965.png'),\n",
       " Path('/home/ubuntu/magnetic-tiles-defect/data/MAGNETIC_TILE_SURFACE_DEFECTS/MT_Crack/Imgs/exp4_num_342190.png'),\n",
       " Path('/home/ubuntu/magnetic-tiles-defect/data/MAGNETIC_TILE_SURFACE_DEFECTS/MT_Crack/Imgs/exp1_num_3191.png'),\n",
       " Path('/home/ubuntu/magnetic-tiles-defect/data/MAGNETIC_TILE_SURFACE_DEFECTS/MT_Crack/Imgs/exp1_num_32128.png'),\n",
       " Path('/home/ubuntu/magnetic-tiles-defect/data/MAGNETIC_TILE_SURFACE_DEFECTS/MT_Crack/Imgs/exp6_num_249821.png'),\n",
       " Path('/home/ubuntu/magnetic-tiles-defect/data/MAGNETIC_TILE_SURFACE_DEFECTS/MT_Crack/Imgs/exp2_num_249619.png'),\n",
       " Path('/home/ubuntu/magnetic-tiles-defect/data/MAGNETIC_TILE_SURFACE_DEFECTS/MT_Crack/Imgs/exp4_num_88149.png'),\n",
       " Path('/home/ubuntu/magnetic-tiles-defect/data/MAGNETIC_TILE_SURFACE_DEFECTS/MT_Crack/Imgs/exp3_num_32171.png'),\n",
       " Path('/home/ubuntu/magnetic-tiles-defect/data/MAGNETIC_TILE_SURFACE_DEFECTS/MT_Crack/Imgs/exp5_num_3247.png'),\n",
       " Path('/home/ubuntu/magnetic-tiles-defect/data/MAGNETIC_TILE_SURFACE_DEFECTS/MT_Blowhole/Imgs/exp5_num_291077.png'),\n",
       " Path('/home/ubuntu/magnetic-tiles-defect/data/MAGNETIC_TILE_SURFACE_DEFECTS/MT_Blowhole/Imgs/exp3_num_108757.png'),\n",
       " Path('/home/ubuntu/magnetic-tiles-defect/data/MAGNETIC_TILE_SURFACE_DEFECTS/MT_Blowhole/Imgs/exp4_num_262626.png'),\n",
       " Path('/home/ubuntu/magnetic-tiles-defect/data/MAGNETIC_TILE_SURFACE_DEFECTS/MT_Blowhole/Imgs/exp6_num_346414.png'),\n",
       " Path('/home/ubuntu/magnetic-tiles-defect/data/MAGNETIC_TILE_SURFACE_DEFECTS/MT_Blowhole/Imgs/exp3_num_262601.png'),\n",
       " Path('/home/ubuntu/magnetic-tiles-defect/data/MAGNETIC_TILE_SURFACE_DEFECTS/MT_Blowhole/Imgs/exp3_num_317526.png'),\n",
       " Path('/home/ubuntu/magnetic-tiles-defect/data/MAGNETIC_TILE_SURFACE_DEFECTS/MT_Blowhole/Imgs/exp1_num_108889.png'),\n",
       " Path('/home/ubuntu/magnetic-tiles-defect/data/MAGNETIC_TILE_SURFACE_DEFECTS/MT_Blowhole/Imgs/exp6_num_317592.png'),\n",
       " Path('/home/ubuntu/magnetic-tiles-defect/data/MAGNETIC_TILE_SURFACE_DEFECTS/MT_Blowhole/Imgs/exp3_num_346347.png'),\n",
       " Path('/home/ubuntu/magnetic-tiles-defect/data/MAGNETIC_TILE_SURFACE_DEFECTS/MT_Blowhole/Imgs/exp3_num_7023.png'),\n",
       " Path('/home/ubuntu/magnetic-tiles-defect/data/MAGNETIC_TILE_SURFACE_DEFECTS/MT_Blowhole/Imgs/exp5_num_40480.png'),\n",
       " Path('/home/ubuntu/magnetic-tiles-defect/data/MAGNETIC_TILE_SURFACE_DEFECTS/MT_Blowhole/Imgs/exp6_num_36280.png'),\n",
       " Path('/home/ubuntu/magnetic-tiles-defect/data/MAGNETIC_TILE_SURFACE_DEFECTS/MT_Blowhole/Imgs/exp5_num_317558.png'),\n",
       " Path('/home/ubuntu/magnetic-tiles-defect/data/MAGNETIC_TILE_SURFACE_DEFECTS/MT_Blowhole/Imgs/exp6_num_308130.png'),\n",
       " Path('/home/ubuntu/magnetic-tiles-defect/data/MAGNETIC_TILE_SURFACE_DEFECTS/MT_Blowhole/Imgs/exp2_num_108741.png'),\n",
       " Path('/home/ubuntu/magnetic-tiles-defect/data/MAGNETIC_TILE_SURFACE_DEFECTS/MT_Blowhole/Imgs/exp6_num_54366.png'),\n",
       " Path('/home/ubuntu/magnetic-tiles-defect/data/MAGNETIC_TILE_SURFACE_DEFECTS/MT_Blowhole/Imgs/exp6_num_108812.png'),\n",
       " Path('/home/ubuntu/magnetic-tiles-defect/data/MAGNETIC_TILE_SURFACE_DEFECTS/MT_Blowhole/Imgs/exp5_num_51739.png'),\n",
       " Path('/home/ubuntu/magnetic-tiles-defect/data/MAGNETIC_TILE_SURFACE_DEFECTS/MT_Blowhole/Imgs/exp3_num_51711.png'),\n",
       " Path('/home/ubuntu/magnetic-tiles-defect/data/MAGNETIC_TILE_SURFACE_DEFECTS/MT_Blowhole/Imgs/exp5_num_308098.png'),\n",
       " Path('/home/ubuntu/magnetic-tiles-defect/data/MAGNETIC_TILE_SURFACE_DEFECTS/MT_Blowhole/Imgs/exp5_num_265149.png'),\n",
       " Path('/home/ubuntu/magnetic-tiles-defect/data/MAGNETIC_TILE_SURFACE_DEFECTS/MT_Blowhole/Imgs/exp6_num_9594.png'),\n",
       " Path('/home/ubuntu/magnetic-tiles-defect/data/MAGNETIC_TILE_SURFACE_DEFECTS/MT_Blowhole/Imgs/exp1_num_3667.png'),\n",
       " Path('/home/ubuntu/magnetic-tiles-defect/data/MAGNETIC_TILE_SURFACE_DEFECTS/MT_Blowhole/Imgs/exp3_num_36246.png'),\n",
       " Path('/home/ubuntu/magnetic-tiles-defect/data/MAGNETIC_TILE_SURFACE_DEFECTS/MT_Blowhole/Imgs/exp4_num_36258.png'),\n",
       " Path('/home/ubuntu/magnetic-tiles-defect/data/MAGNETIC_TILE_SURFACE_DEFECTS/MT_Blowhole/Imgs/exp4_num_54308.png'),\n",
       " Path('/home/ubuntu/magnetic-tiles-defect/data/MAGNETIC_TILE_SURFACE_DEFECTS/MT_Blowhole/Imgs/exp4_num_3724.png'),\n",
       " Path('/home/ubuntu/magnetic-tiles-defect/data/MAGNETIC_TILE_SURFACE_DEFECTS/MT_Blowhole/Imgs/exp2_num_7009.png'),\n",
       " Path('/home/ubuntu/magnetic-tiles-defect/data/MAGNETIC_TILE_SURFACE_DEFECTS/MT_Blowhole/Imgs/exp3_num_308061.png'),\n",
       " Path('/home/ubuntu/magnetic-tiles-defect/data/MAGNETIC_TILE_SURFACE_DEFECTS/MT_Blowhole/Imgs/exp6_num_262705.png'),\n",
       " Path('/home/ubuntu/magnetic-tiles-defect/data/MAGNETIC_TILE_SURFACE_DEFECTS/MT_Blowhole/Imgs/exp6_num_40515.png'),\n",
       " Path('/home/ubuntu/magnetic-tiles-defect/data/MAGNETIC_TILE_SURFACE_DEFECTS/MT_Blowhole/Imgs/exp4_num_297524.png'),\n",
       " Path('/home/ubuntu/magnetic-tiles-defect/data/MAGNETIC_TILE_SURFACE_DEFECTS/MT_Blowhole/Imgs/exp6_num_7102.png'),\n",
       " Path('/home/ubuntu/magnetic-tiles-defect/data/MAGNETIC_TILE_SURFACE_DEFECTS/MT_Blowhole/Imgs/exp2_num_4964.png'),\n",
       " Path('/home/ubuntu/magnetic-tiles-defect/data/MAGNETIC_TILE_SURFACE_DEFECTS/MT_Blowhole/Imgs/exp1_num_9473.png'),\n",
       " Path('/home/ubuntu/magnetic-tiles-defect/data/MAGNETIC_TILE_SURFACE_DEFECTS/MT_Blowhole/Imgs/exp1_num_4727.png'),\n",
       " Path('/home/ubuntu/magnetic-tiles-defect/data/MAGNETIC_TILE_SURFACE_DEFECTS/MT_Blowhole/Imgs/exp5_num_36269.png'),\n",
       " Path('/home/ubuntu/magnetic-tiles-defect/data/MAGNETIC_TILE_SURFACE_DEFECTS/MT_Blowhole/Imgs/exp2_num_291023.png'),\n",
       " Path('/home/ubuntu/magnetic-tiles-defect/data/MAGNETIC_TILE_SURFACE_DEFECTS/MT_Blowhole/Imgs/exp5_num_4801.png'),\n",
       " Path('/home/ubuntu/magnetic-tiles-defect/data/MAGNETIC_TILE_SURFACE_DEFECTS/MT_Blowhole/Imgs/exp2_num_308043.png'),\n",
       " Path('/home/ubuntu/magnetic-tiles-defect/data/MAGNETIC_TILE_SURFACE_DEFECTS/MT_Blowhole/Imgs/exp5_num_9549.png'),\n",
       " Path('/home/ubuntu/magnetic-tiles-defect/data/MAGNETIC_TILE_SURFACE_DEFECTS/MT_Blowhole/Imgs/exp4_num_4779.png'),\n",
       " Path('/home/ubuntu/magnetic-tiles-defect/data/MAGNETIC_TILE_SURFACE_DEFECTS/MT_Blowhole/Imgs/exp3_num_54291.png'),\n",
       " Path('/home/ubuntu/magnetic-tiles-defect/data/MAGNETIC_TILE_SURFACE_DEFECTS/MT_Blowhole/Imgs/exp6_num_3789.png'),\n",
       " Path('/home/ubuntu/magnetic-tiles-defect/data/MAGNETIC_TILE_SURFACE_DEFECTS/MT_Blowhole/Imgs/exp4_num_265131.png'),\n",
       " Path('/home/ubuntu/magnetic-tiles-defect/data/MAGNETIC_TILE_SURFACE_DEFECTS/MT_Blowhole/Imgs/exp3_num_853.png'),\n",
       " Path('/home/ubuntu/magnetic-tiles-defect/data/MAGNETIC_TILE_SURFACE_DEFECTS/MT_Blowhole/Imgs/exp6_num_265182.png'),\n",
       " Path('/home/ubuntu/magnetic-tiles-defect/data/MAGNETIC_TILE_SURFACE_DEFECTS/MT_Blowhole/Imgs/exp1_num_322605.png'),\n",
       " Path('/home/ubuntu/magnetic-tiles-defect/data/MAGNETIC_TILE_SURFACE_DEFECTS/MT_Blowhole/Imgs/exp1_num_327970.png'),\n",
       " Path('/home/ubuntu/magnetic-tiles-defect/data/MAGNETIC_TILE_SURFACE_DEFECTS/MT_Blowhole/Imgs/exp2_num_322630.png'),\n",
       " Path('/home/ubuntu/magnetic-tiles-defect/data/MAGNETIC_TILE_SURFACE_DEFECTS/MT_Blowhole/Imgs/exp2_num_4748.png'),\n",
       " Path('/home/ubuntu/magnetic-tiles-defect/data/MAGNETIC_TILE_SURFACE_DEFECTS/MT_Blowhole/Imgs/exp2_num_265103.png'),\n",
       " Path('/home/ubuntu/magnetic-tiles-defect/data/MAGNETIC_TILE_SURFACE_DEFECTS/MT_Blowhole/Imgs/exp1_num_297464.png'),\n",
       " Path('/home/ubuntu/magnetic-tiles-defect/data/MAGNETIC_TILE_SURFACE_DEFECTS/MT_Blowhole/Imgs/exp5_num_7054.png'),\n",
       " Path('/home/ubuntu/magnetic-tiles-defect/data/MAGNETIC_TILE_SURFACE_DEFECTS/MT_Blowhole/Imgs/exp5_num_3746.png'),\n",
       " Path('/home/ubuntu/magnetic-tiles-defect/data/MAGNETIC_TILE_SURFACE_DEFECTS/MT_Blowhole/Imgs/exp2_num_262572.png'),\n",
       " Path('/home/ubuntu/magnetic-tiles-defect/data/MAGNETIC_TILE_SURFACE_DEFECTS/MT_Blowhole/Imgs/exp5_num_322672.png'),\n",
       " Path('/home/ubuntu/magnetic-tiles-defect/data/MAGNETIC_TILE_SURFACE_DEFECTS/MT_Blowhole/Imgs/exp3_num_4978.png'),\n",
       " Path('/home/ubuntu/magnetic-tiles-defect/data/MAGNETIC_TILE_SURFACE_DEFECTS/MT_Blowhole/Imgs/exp4_num_328029.png'),\n",
       " Path('/home/ubuntu/magnetic-tiles-defect/data/MAGNETIC_TILE_SURFACE_DEFECTS/MT_Blowhole/Imgs/exp2_num_317512.png'),\n",
       " Path('/home/ubuntu/magnetic-tiles-defect/data/MAGNETIC_TILE_SURFACE_DEFECTS/MT_Blowhole/Imgs/exp1_num_290998.png'),\n",
       " Path('/home/ubuntu/magnetic-tiles-defect/data/MAGNETIC_TILE_SURFACE_DEFECTS/MT_Blowhole/Imgs/exp4_num_7036.png'),\n",
       " Path('/home/ubuntu/magnetic-tiles-defect/data/MAGNETIC_TILE_SURFACE_DEFECTS/MT_Blowhole/Imgs/exp6_num_291134.png'),\n",
       " Path('/home/ubuntu/magnetic-tiles-defect/data/MAGNETIC_TILE_SURFACE_DEFECTS/MT_Blowhole/Imgs/exp2_num_36302.png'),\n",
       " Path('/home/ubuntu/magnetic-tiles-defect/data/MAGNETIC_TILE_SURFACE_DEFECTS/MT_Blowhole/Imgs/exp1_num_108719.png'),\n",
       " Path('/home/ubuntu/magnetic-tiles-defect/data/MAGNETIC_TILE_SURFACE_DEFECTS/MT_Blowhole/Imgs/exp4_num_9520.png'),\n",
       " Path('/home/ubuntu/magnetic-tiles-defect/data/MAGNETIC_TILE_SURFACE_DEFECTS/MT_Blowhole/Imgs/exp5_num_5022.png'),\n",
       " Path('/home/ubuntu/magnetic-tiles-defect/data/MAGNETIC_TILE_SURFACE_DEFECTS/MT_Blowhole/Imgs/exp1_num_4944.png'),\n",
       " Path('/home/ubuntu/magnetic-tiles-defect/data/MAGNETIC_TILE_SURFACE_DEFECTS/MT_Blowhole/Imgs/exp2_num_297490.png'),\n",
       " Path('/home/ubuntu/magnetic-tiles-defect/data/MAGNETIC_TILE_SURFACE_DEFECTS/MT_Blowhole/Imgs/exp3_num_4764.png'),\n",
       " Path('/home/ubuntu/magnetic-tiles-defect/data/MAGNETIC_TILE_SURFACE_DEFECTS/MT_Blowhole/Imgs/exp1_num_51674.png'),\n",
       " Path('/home/ubuntu/magnetic-tiles-defect/data/MAGNETIC_TILE_SURFACE_DEFECTS/MT_Blowhole/Imgs/exp6_num_4841.png'),\n",
       " Path('/home/ubuntu/magnetic-tiles-defect/data/MAGNETIC_TILE_SURFACE_DEFECTS/MT_Blowhole/Imgs/exp3_num_3710.png'),\n",
       " Path('/home/ubuntu/magnetic-tiles-defect/data/MAGNETIC_TILE_SURFACE_DEFECTS/MT_Blowhole/Imgs/exp4_num_317540.png'),\n",
       " Path('/home/ubuntu/magnetic-tiles-defect/data/MAGNETIC_TILE_SURFACE_DEFECTS/MT_Blowhole/Imgs/exp4_num_322656.png'),\n",
       " Path('/home/ubuntu/magnetic-tiles-defect/data/MAGNETIC_TILE_SURFACE_DEFECTS/MT_Blowhole/Imgs/exp2_num_108923.png'),\n",
       " Path('/home/ubuntu/magnetic-tiles-defect/data/MAGNETIC_TILE_SURFACE_DEFECTS/MT_Blowhole/Imgs/exp3_num_297506.png'),\n",
       " Path('/home/ubuntu/magnetic-tiles-defect/data/MAGNETIC_TILE_SURFACE_DEFECTS/MT_Blowhole/Imgs/exp2_num_54273.png'),\n",
       " Path('/home/ubuntu/magnetic-tiles-defect/data/MAGNETIC_TILE_SURFACE_DEFECTS/MT_Blowhole/Imgs/exp3_num_265117.png'),\n",
       " Path('/home/ubuntu/magnetic-tiles-defect/data/MAGNETIC_TILE_SURFACE_DEFECTS/MT_Blowhole/Imgs/exp6_num_322697.png'),\n",
       " Path('/home/ubuntu/magnetic-tiles-defect/data/MAGNETIC_TILE_SURFACE_DEFECTS/MT_Blowhole/Imgs/exp3_num_9508.png'),\n",
       " Path('/home/ubuntu/magnetic-tiles-defect/data/MAGNETIC_TILE_SURFACE_DEFECTS/MT_Blowhole/Imgs/exp1_num_346311.png'),\n",
       " Path('/home/ubuntu/magnetic-tiles-defect/data/MAGNETIC_TILE_SURFACE_DEFECTS/MT_Blowhole/Imgs/exp1_num_40410.png'),\n",
       " Path('/home/ubuntu/magnetic-tiles-defect/data/MAGNETIC_TILE_SURFACE_DEFECTS/MT_Blowhole/Imgs/exp1_num_308015.png'),\n",
       " Path('/home/ubuntu/magnetic-tiles-defect/data/MAGNETIC_TILE_SURFACE_DEFECTS/MT_Blowhole/Imgs/exp1_num_6984.png'),\n",
       " Path('/home/ubuntu/magnetic-tiles-defect/data/MAGNETIC_TILE_SURFACE_DEFECTS/MT_Blowhole/Imgs/exp2_num_9496.png'),\n",
       " Path('/home/ubuntu/magnetic-tiles-defect/data/MAGNETIC_TILE_SURFACE_DEFECTS/MT_Blowhole/Imgs/exp4_num_291052.png'),\n",
       " Path('/home/ubuntu/magnetic-tiles-defect/data/MAGNETIC_TILE_SURFACE_DEFECTS/MT_Blowhole/Imgs/exp2_num_3696.png'),\n",
       " Path('/home/ubuntu/magnetic-tiles-defect/data/MAGNETIC_TILE_SURFACE_DEFECTS/MT_Blowhole/Imgs/exp1_num_36290.png'),\n",
       " Path('/home/ubuntu/magnetic-tiles-defect/data/MAGNETIC_TILE_SURFACE_DEFECTS/MT_Blowhole/Imgs/exp2_num_51697.png'),\n",
       " Path('/home/ubuntu/magnetic-tiles-defect/data/MAGNETIC_TILE_SURFACE_DEFECTS/MT_Blowhole/Imgs/exp5_num_262654.png'),\n",
       " Path('/home/ubuntu/magnetic-tiles-defect/data/MAGNETIC_TILE_SURFACE_DEFECTS/MT_Blowhole/Imgs/exp4_num_40450.png'),\n",
       " Path('/home/ubuntu/magnetic-tiles-defect/data/MAGNETIC_TILE_SURFACE_DEFECTS/MT_Blowhole/Imgs/exp6_num_328105.png'),\n",
       " Path('/home/ubuntu/magnetic-tiles-defect/data/MAGNETIC_TILE_SURFACE_DEFECTS/MT_Blowhole/Imgs/exp1_num_317483.png'),\n",
       " Path('/home/ubuntu/magnetic-tiles-defect/data/MAGNETIC_TILE_SURFACE_DEFECTS/MT_Blowhole/Imgs/exp3_num_291038.png'),\n",
       " Path('/home/ubuntu/magnetic-tiles-defect/data/MAGNETIC_TILE_SURFACE_DEFECTS/MT_Blowhole/Imgs/exp3_num_40438.png'),\n",
       " Path('/home/ubuntu/magnetic-tiles-defect/data/MAGNETIC_TILE_SURFACE_DEFECTS/MT_Blowhole/Imgs/exp4_num_4995.png'),\n",
       " Path('/home/ubuntu/magnetic-tiles-defect/data/MAGNETIC_TILE_SURFACE_DEFECTS/MT_Blowhole/Imgs/exp1_num_54246.png'),\n",
       " Path('/home/ubuntu/magnetic-tiles-defect/data/MAGNETIC_TILE_SURFACE_DEFECTS/MT_Blowhole/Imgs/exp1_num_265077.png'),\n",
       " Path('/home/ubuntu/magnetic-tiles-defect/data/MAGNETIC_TILE_SURFACE_DEFECTS/MT_Blowhole/Imgs/exp5_num_297552.png'),\n",
       " Path('/home/ubuntu/magnetic-tiles-defect/data/MAGNETIC_TILE_SURFACE_DEFECTS/MT_Blowhole/Imgs/exp6_num_297601.png'),\n",
       " Path('/home/ubuntu/magnetic-tiles-defect/data/MAGNETIC_TILE_SURFACE_DEFECTS/MT_Blowhole/Imgs/exp1_num_262480.png'),\n",
       " Path('/home/ubuntu/magnetic-tiles-defect/data/MAGNETIC_TILE_SURFACE_DEFECTS/MT_Blowhole/Imgs/exp2_num_327997.png'),\n",
       " Path('/home/ubuntu/magnetic-tiles-defect/data/MAGNETIC_TILE_SURFACE_DEFECTS/MT_Blowhole/Imgs/exp6_num_51771.png'),\n",
       " Path('/home/ubuntu/magnetic-tiles-defect/data/MAGNETIC_TILE_SURFACE_DEFECTS/MT_Blowhole/Imgs/exp5_num_346381.png'),\n",
       " Path('/home/ubuntu/magnetic-tiles-defect/data/MAGNETIC_TILE_SURFACE_DEFECTS/MT_Blowhole/Imgs/exp3_num_328014.png'),\n",
       " Path('/home/ubuntu/magnetic-tiles-defect/data/MAGNETIC_TILE_SURFACE_DEFECTS/MT_Blowhole/Imgs/exp4_num_51725.png'),\n",
       " Path('/home/ubuntu/magnetic-tiles-defect/data/MAGNETIC_TILE_SURFACE_DEFECTS/MT_Blowhole/Imgs/exp5_num_328057.png'),\n",
       " Path('/home/ubuntu/magnetic-tiles-defect/data/MAGNETIC_TILE_SURFACE_DEFECTS/MT_Blowhole/Imgs/exp4_num_108774.png'),\n",
       " Path('/home/ubuntu/magnetic-tiles-defect/data/MAGNETIC_TILE_SURFACE_DEFECTS/MT_Blowhole/Imgs/exp2_num_40424.png'),\n",
       " Path('/home/ubuntu/magnetic-tiles-defect/data/MAGNETIC_TILE_SURFACE_DEFECTS/MT_Blowhole/Imgs/exp3_num_322643.png'),\n",
       " Path('/home/ubuntu/magnetic-tiles-defect/data/MAGNETIC_TILE_SURFACE_DEFECTS/MT_Blowhole/Imgs/exp4_num_308078.png'),\n",
       " Path('/home/ubuntu/magnetic-tiles-defect/data/MAGNETIC_TILE_SURFACE_DEFECTS/MT_Blowhole/Imgs/exp5_num_108791.png'),\n",
       " Path('/home/ubuntu/magnetic-tiles-defect/data/MAGNETIC_TILE_SURFACE_DEFECTS/MT_Blowhole/Imgs/exp5_num_54331.png'),\n",
       " Path('/home/ubuntu/magnetic-tiles-defect/data/MAGNETIC_TILE_SURFACE_DEFECTS/MT_Blowhole/Imgs/exp6_num_5106.png')]"
      ]
     },
     "execution_count": 13,
     "metadata": {},
     "output_type": "execute_result"
    }
   ],
   "source": [
    "msk_paths"
   ]
  },
  {
   "cell_type": "code",
   "execution_count": 14,
   "id": "17611c75",
   "metadata": {},
   "outputs": [],
   "source": [
    "assert len(img_paths) == len(msk_paths)"
   ]
  },
  {
   "cell_type": "code",
   "execution_count": 15,
   "id": "b35363f7",
   "metadata": {},
   "outputs": [],
   "source": [
    "img_dir_path = dataset_path/'images'\n",
    "mask_dir_path = dataset_path/'masks'\n",
    "\n",
    "for p in [img_dir_path, mask_dir_path]:\n",
    "    p.mkdir(exist_ok=True)"
   ]
  },
  {
   "cell_type": "code",
   "execution_count": 16,
   "id": "34b1614f",
   "metadata": {},
   "outputs": [
    {
     "name": "stderr",
     "output_type": "stream",
     "text": [
      "100%|██████████| 392/392 [00:01<00:00, 308.99it/s]\n"
     ]
    }
   ],
   "source": [
    "np.random.seed(42)\n",
    "for img_path, msk_path in tqdm(zip(img_paths, msk_paths), total=len(img_paths)):\n",
    "    c = msk_path.parent.parent.stem\n",
    "    msk = np.array(Image.open(msk_path))\n",
    "    msk[msk>0] = 1 # binary segmenation: defect/defect-free\n",
    "\n",
    "    new_img_path = img_dir_path/img_path.name\n",
    "    new_mask_path = mask_dir_path/msk_path.name\n",
    "    copyfile(img_path, new_img_path)\n",
    "    Image.fromarray(msk).save(new_mask_path)"
   ]
  },
  {
   "cell_type": "code",
   "execution_count": 17,
   "id": "512ea788",
   "metadata": {},
   "outputs": [],
   "source": [
    "assert len(get_files(img_dir_path, extensions='.jpg')) == len(get_files(mask_dir_path, extensions='.png'))"
   ]
  },
  {
   "cell_type": "code",
   "execution_count": 18,
   "id": "33b6f4df",
   "metadata": {},
   "outputs": [],
   "source": [
    "test_pct = 0.2\n",
    "\n",
    "train_img_dir_path = dataset_path/'train_images'\n",
    "train_mask_dir_path = dataset_path/'train_masks'\n",
    "test_img_dir_path = dataset_path/'test_images'\n",
    "test_mask_dir_path = dataset_path/'test_masks'\n",
    "\n",
    "img_fpaths = get_files(img_dir_path, extensions='.jpg')\n",
    "test_img_fpaths = random.sample(img_fpaths, int(test_pct*len(img_fpaths)))\n",
    "train_img_fpaths = [\n",
    "    fpath for fpath in img_fpaths if fpath not in test_img_fpaths]\n",
    "\n",
    "for dir in [train_img_dir_path,\n",
    "            train_mask_dir_path,\n",
    "            test_img_dir_path,\n",
    "            test_mask_dir_path]:\n",
    "    dir.mkdir(exist_ok=True)\n",
    "\n",
    "for img_fpath in test_img_fpaths:\n",
    "    mask_fpath = mask_dir_path/f'{img_fpath.stem}.png'\n",
    "    shutil.copy(img_fpath, test_img_dir_path)\n",
    "    shutil.copy(mask_fpath, test_mask_dir_path)\n",
    "\n",
    "for img_fpath in train_img_fpaths:\n",
    "    mask_fpath = mask_dir_path/f'{img_fpath.stem}.png'\n",
    "    shutil.copy(img_fpath, train_img_dir_path)\n",
    "    shutil.copy(mask_fpath, train_mask_dir_path)"
   ]
  },
  {
   "cell_type": "code",
   "execution_count": null,
   "id": "33489364",
   "metadata": {},
   "outputs": [],
   "source": []
  }
 ],
 "metadata": {
  "interpreter": {
   "hash": "f69131c928c11dba19f2e77992dc782c92df3d49ea4bc98a0fc069376aa592ab"
  },
  "kernelspec": {
   "display_name": "Python 3.8.10 ('magnetic-tiles-defect-clR5l9w5')",
   "language": "python",
   "name": "python3"
  },
  "language_info": {
   "codemirror_mode": {
    "name": "ipython",
    "version": 3
   },
   "file_extension": ".py",
   "mimetype": "text/x-python",
   "name": "python",
   "nbconvert_exporter": "python",
   "pygments_lexer": "ipython3",
   "version": "3.8.10"
  }
 },
 "nbformat": 4,
 "nbformat_minor": 5
}

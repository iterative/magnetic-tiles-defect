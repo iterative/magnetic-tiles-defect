{
 "cells": [
  {
   "cell_type": "code",
   "execution_count": null,
   "id": "5962cdf8",
   "metadata": {},
   "outputs": [],
   "source": [
    "from fastai.vision.all import *\n",
    "from fastai.data.all import *"
   ]
  },
  {
   "cell_type": "code",
   "execution_count": null,
   "id": "80c59e30",
   "metadata": {},
   "outputs": [],
   "source": [
    "DATASET_NAME = 'MAGNETIC_TILE_SURFACE_DEFECTS'\n",
    "CODE_NAMES = [0, 1]\n",
    "\n",
    "PROJ_PATH = Path.cwd().parent\n",
    "DATASET_PATH = PROJ_PATH/'data'/DATASET_NAME\n",
    "print(PROJ_PATH)\n",
    "print(DATASET_PATH)\n"
   ]
  },
  {
   "cell_type": "code",
   "execution_count": null,
   "id": "2be85dbf",
   "metadata": {},
   "outputs": [],
   "source": [
    "train_fpaths = get_image_files(DATASET_PATH/'train_images')\n",
    "test_fpaths = get_image_files(DATASET_PATH/'test_images')\n",
    "len(train_fpaths), len(test_fpaths)"
   ]
  },
  {
   "cell_type": "code",
   "execution_count": null,
   "id": "f84aa4cc",
   "metadata": {},
   "outputs": [],
   "source": [
    "def get_mask_path(img_path): \n",
    "    msk_path = Path(str(img_path.parent).replace('_images', '_masks'))/f'{img_path.stem}.png'\n",
    "    return msk_path\n",
    "\n",
    "get_mask_path(test_fpaths[0])"
   ]
  },
  {
   "cell_type": "code",
   "execution_count": null,
   "id": "212aad6f",
   "metadata": {},
   "outputs": [],
   "source": [
    "sz = 224\n",
    "item_tfms_sz = sz\n",
    "batch_tfms_sz = sz\n",
    "item_tfms_sz, batch_tfms_sz"
   ]
  },
  {
   "cell_type": "code",
   "execution_count": null,
   "id": "05e88928",
   "metadata": {},
   "outputs": [],
   "source": [
    "str(Path(train_fpaths[0]).parent.name).startswith('train')"
   ]
  },
  {
   "cell_type": "code",
   "execution_count": null,
   "id": "c89f509f",
   "metadata": {},
   "outputs": [],
   "source": [
    "dls = SegmentationDataLoaders.from_label_func(\n",
    "    path=DATASET_PATH, \n",
    "    fnames=train_fpaths + test_fpaths,\n",
    "    label_func=get_mask_path,\n",
    "    codes=CODE_NAMES,\n",
    "    bs=16, \n",
    "    splitter=FuncSplitter(lambda o: str(Path(o).parent.name).startswith('test')),\n",
    "    item_tfms = Resize(item_tfms_sz),\n",
    "    batch_tfms =[*aug_transforms(size=batch_tfms_sz), \n",
    "                 Normalize.from_stats(*imagenet_stats)]\n",
    ")\n",
    "\n",
    "#dls.device = 'cpu' # uncomment to use CPU, might take longer to train\n",
    "\n",
    "dls.show_batch()\n",
    "batch = dls.one_batch()\n",
    "print(batch[0].min(), batch[0].max())\n",
    "print(batch[1].min(), batch[1].max())"
   ]
  },
  {
   "cell_type": "code",
   "execution_count": null,
   "id": "9c7c9b7c",
   "metadata": {},
   "outputs": [],
   "source": [
    "len(dls.train_ds), len(dls.valid_ds), len(dls.train_ds) + len(dls.valid_ds)"
   ]
  },
  {
   "cell_type": "code",
   "execution_count": null,
   "id": "c68fdfb7",
   "metadata": {},
   "outputs": [],
   "source": [
    "metrics = [Dice, JaccardCoeff]  "
   ]
  },
  {
   "cell_type": "code",
   "execution_count": null,
   "id": "a7a86bb0",
   "metadata": {},
   "outputs": [],
   "source": [
    "model_dir = PROJ_PATH/'models'\n",
    "model_dir.mkdir(exist_ok=True)\n",
    "model_pickle_fpath = model_dir/'model_pickle_fastai.pkl'\n",
    "model_pickle_fpath"
   ]
  },
  {
   "cell_type": "code",
   "execution_count": null,
   "id": "b67ba2dd",
   "metadata": {},
   "outputs": [],
   "source": [
    "learn = unet_learner(dls, resnet34, metrics=metrics)\n",
    "learn.fine_tune(15)"
   ]
  },
  {
   "cell_type": "code",
   "execution_count": null,
   "id": "3e15b775",
   "metadata": {},
   "outputs": [],
   "source": [
    "learn.show_results()"
   ]
  },
  {
   "cell_type": "code",
   "execution_count": null,
   "id": "86f04d9f",
   "metadata": {},
   "outputs": [],
   "source": [
    "loss_val, dice_val, jacc_val = learn.validate()\n",
    "loss_val, dice_val, jacc_val"
   ]
  },
  {
   "cell_type": "code",
   "execution_count": null,
   "id": "c5e339a3",
   "metadata": {},
   "outputs": [],
   "source": [
    "interp = SegmentationInterpretation.from_learner(learn)\n",
    "interp.plot_top_losses(10,figsize=(10,40))"
   ]
  }
 ],
 "metadata": {
  "kernelspec": {
   "display_name": "Python 3.9.13 64-bit",
   "language": "python",
   "name": "python3"
  },
  "language_info": {
   "codemirror_mode": {
    "name": "ipython",
    "version": 3
   },
   "file_extension": ".py",
   "mimetype": "text/x-python",
   "name": "python",
   "nbconvert_exporter": "python",
   "pygments_lexer": "ipython3",
   "version": "3.9.13"
  },
  "vscode": {
   "interpreter": {
    "hash": "949777d72b0d2535278d3dc13498b2535136f6dfe0678499012e853ee9abcab1"
   }
  }
 },
 "nbformat": 4,
 "nbformat_minor": 5
}

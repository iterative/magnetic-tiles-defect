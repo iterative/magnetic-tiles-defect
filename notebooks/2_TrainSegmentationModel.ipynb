{
 "cells": [
  {
   "cell_type": "code",
   "execution_count": null,
   "id": "5962cdf8",
   "metadata": {},
   "outputs": [],
   "source": [
    "from fastai.vision.all import *\n",
    "from fastai.data.all import *"
   ]
  },
  {
   "cell_type": "code",
   "execution_count": null,
   "id": "80c59e30",
   "metadata": {},
   "outputs": [],
   "source": [
    "DATASET_NAME = 'MAGNETIC_TILE_SURFACE_DEFECTS'\n",
    "CODE_NAMES = [0, 1]\n",
    "\n",
    "PROJ_PATH = Path.cwd().parent\n",
    "DATASET_PATH = PROJ_PATH/'data'/DATASET_NAME\n",
    "print(PROJ_PATH)\n",
    "print(DATASET_PATH)\n"
   ]
  },
  {
   "cell_type": "code",
   "execution_count": null,
   "id": "2be85dbf",
   "metadata": {},
   "outputs": [],
   "source": [
    "fpaths = get_image_files(DATASET_PATH/'images')\n",
    "fpaths"
   ]
  },
  {
   "cell_type": "code",
   "execution_count": null,
   "id": "f84aa4cc",
   "metadata": {},
   "outputs": [],
   "source": [
    "def get_mask_path(img_path): \n",
    "    msk_path = img_path.parent.parent/'masks'/f'{img_path.stem}.png'\n",
    "    return msk_path\n",
    "\n",
    "get_mask_path(fpaths[0])"
   ]
  },
  {
   "cell_type": "code",
   "execution_count": null,
   "id": "0c801e16",
   "metadata": {},
   "outputs": [],
   "source": [
    "img = Image.open(fpaths[0])\n",
    "img.size"
   ]
  },
  {
   "cell_type": "code",
   "execution_count": null,
   "id": "212aad6f",
   "metadata": {},
   "outputs": [],
   "source": [
    "if min(img.size) >= 512:\n",
    "    sz = 512\n",
    "elif min(img.size) < 100:\n",
    "    import warnings\n",
    "    warnings.warn(f\"Image size of {img.size} is very small\")\n",
    "    sz = min(img.size)\n",
    "else:\n",
    "    sz = min(img.size)\n",
    "\n",
    "item_tfms_sz = sz\n",
    "batch_tfms_sz = sz\n",
    "item_tfms_sz, batch_tfms_sz"
   ]
  },
  {
   "cell_type": "code",
   "execution_count": null,
   "id": "c89f509f",
   "metadata": {},
   "outputs": [],
   "source": [
    "dls = SegmentationDataLoaders.from_label_func(\n",
    "    path=DATASET_PATH, \n",
    "    fnames=fpaths,\n",
    "    label_func=get_mask_path,\n",
    "    codes=CODE_NAMES,\n",
    "    bs=16, \n",
    "    splitter=RandomSplitter(valid_pct=0.2, seed=0),\n",
    "    item_tfms = Resize(item_tfms_sz),\n",
    "    batch_tfms =[*aug_transforms(size=batch_tfms_sz), \n",
    "                 Normalize.from_stats(*imagenet_stats)]\n",
    ")\n",
    "\n",
    "#dls.device = 'cpu' # uncomment to use CPU, might take longer to train\n",
    "\n",
    "dls.show_batch()\n",
    "batch = dls.one_batch()\n",
    "print(batch[0].min(), batch[0].max())\n",
    "print(batch[1].min(), batch[1].max())"
   ]
  },
  {
   "cell_type": "code",
   "execution_count": null,
   "id": "9c7c9b7c",
   "metadata": {},
   "outputs": [],
   "source": [
    "len(dls.train_ds), len(dls.valid_ds), len(dls.train_ds) + len(dls.valid_ds)"
   ]
  },
  {
   "cell_type": "code",
   "execution_count": null,
   "id": "c68fdfb7",
   "metadata": {},
   "outputs": [],
   "source": [
    "metrics = [DiceMulti]  "
   ]
  },
  {
   "cell_type": "code",
   "execution_count": null,
   "id": "b67ba2dd",
   "metadata": {},
   "outputs": [],
   "source": [
    "pickle_fpath = DATASET_PATH/'export_learn_obj.pkl'\n",
    "learn = unet_learner(dls, resnet34, metrics=metrics)\n",
    "\n",
    "learn.fine_tune(15)\n",
    "learn.export(fname=pickle_fpath)"
   ]
  },
  {
   "cell_type": "code",
   "execution_count": null,
   "id": "3e15b775",
   "metadata": {},
   "outputs": [],
   "source": [
    "learn.show_results()"
   ]
  },
  {
   "cell_type": "code",
   "execution_count": null,
   "id": "a51d320c",
   "metadata": {},
   "outputs": [],
   "source": [
    "loss_val, dice_val = learn.validate()\n",
    "loss_val, dice_val"
   ]
  },
  {
   "cell_type": "code",
   "execution_count": null,
   "id": "c5e339a3",
   "metadata": {},
   "outputs": [],
   "source": [
    "interp = SegmentationInterpretation.from_learner(learn)\n",
    "interp.plot_top_losses(10,figsize=(10,40))"
   ]
  },
  {
   "cell_type": "code",
   "execution_count": null,
   "id": "dcdfc294",
   "metadata": {},
   "outputs": [],
   "source": []
  },
  {
   "cell_type": "code",
   "execution_count": null,
   "id": "9e6dcca6",
   "metadata": {},
   "outputs": [],
   "source": []
  }
 ],
 "metadata": {
  "interpreter": {
   "hash": "dd7a3dbcd42e9c657f5ca607d0bf27297d7d34da9ea5a5a1a4e2a3a7ac3eee7e"
  },
  "kernelspec": {
   "display_name": "Python (magtiles)",
   "language": "python",
   "name": "python3"
  },
  "language_info": {
   "codemirror_mode": {
    "name": "ipython",
    "version": 3
   },
   "file_extension": ".py",
   "mimetype": "text/x-python",
   "name": "python",
   "nbconvert_exporter": "python",
   "pygments_lexer": "ipython3",
   "version": "3.9.7"
  }
 },
 "nbformat": 4,
 "nbformat_minor": 5
}

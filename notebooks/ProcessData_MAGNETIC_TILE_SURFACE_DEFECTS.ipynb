{
 "cells": [
  {
   "cell_type": "code",
   "execution_count": 1,
   "id": "356c557e",
   "metadata": {},
   "outputs": [],
   "source": [
    "import sys\n",
    "sys.path.append(\"..\")"
   ]
  },
  {
   "cell_type": "code",
   "execution_count": 2,
   "id": "86bbab5d",
   "metadata": {},
   "outputs": [],
   "source": [
    "import numpy as np\n",
    "\n",
    "from fastai.vision.all import *\n",
    "from pathlib import Path\n",
    "from tqdm.auto import tqdm\n",
    "from shutil import copyfile, rmtree, move"
   ]
  },
  {
   "cell_type": "code",
   "execution_count": 3,
   "id": "ebe42f33",
   "metadata": {},
   "outputs": [],
   "source": [
    "from urllib.request import urlopen\n",
    "from io import BytesIO\n",
    "from zipfile import ZipFile\n",
    "\n",
    "def download_and_unzip(url, extract_to='.'):\n",
    "    http_response = urlopen(url)\n",
    "    zipfile = ZipFile(BytesIO(http_response.read()))\n",
    "    zipfile.extractall(path=extract_to)"
   ]
  },
  {
   "cell_type": "code",
   "execution_count": 4,
   "id": "9079cd8f",
   "metadata": {},
   "outputs": [
    {
     "name": "stdout",
     "output_type": "stream",
     "text": [
      "/mnt/c/Users/akim/gitlab/other/magnetic-tiles-defect\n",
      "/mnt/c/Users/akim/gitlab/other/magnetic-tiles-defect/data\n"
     ]
    }
   ],
   "source": [
    "PROJ_PATH = Path.cwd().parent\n",
    "DATA_PATH = PROJ_PATH/'data'\n",
    "print(PROJ_PATH)\n",
    "print(DATA_PATH)"
   ]
  },
  {
   "cell_type": "code",
   "execution_count": 5,
   "id": "c573fcda",
   "metadata": {},
   "outputs": [],
   "source": [
    "download_and_unzip(url='https://github.com/abin24/Magnetic-tile-defect-datasets./archive/refs/heads/master.zip',\n",
    "                   extract_to=DATA_PATH)\n",
    "\n",
    "extract_dir = DATA_PATH/'Magnetic-tile-defect-datasets.-master'"
   ]
  },
  {
   "cell_type": "code",
   "execution_count": 6,
   "id": "24cf2e0d",
   "metadata": {},
   "outputs": [],
   "source": [
    "dataset_path = DATA_PATH/'MAGNETIC_TILE_SURFACE_DEFECTS'\n",
    "if dataset_path.is_dir():\n",
    "    rmtree(dataset_path)\n",
    "if extract_dir.is_dir():\n",
    "    move(extract_dir, dataset_path)"
   ]
  },
  {
   "cell_type": "code",
   "execution_count": 7,
   "id": "11607ebf",
   "metadata": {},
   "outputs": [
    {
     "data": {
      "text/plain": [
       "(#9) [Path('/mnt/c/Users/akim/gitlab/other/magnetic-tiles-defect/data/MAGNETIC_TILE_SURFACE_DEFECTS/dataset.jpg'),Path('/mnt/c/Users/akim/gitlab/other/magnetic-tiles-defect/data/MAGNETIC_TILE_SURFACE_DEFECTS/dataset.png'),Path('/mnt/c/Users/akim/gitlab/other/magnetic-tiles-defect/data/MAGNETIC_TILE_SURFACE_DEFECTS/MT_Blowhole'),Path('/mnt/c/Users/akim/gitlab/other/magnetic-tiles-defect/data/MAGNETIC_TILE_SURFACE_DEFECTS/MT_Break'),Path('/mnt/c/Users/akim/gitlab/other/magnetic-tiles-defect/data/MAGNETIC_TILE_SURFACE_DEFECTS/MT_Crack'),Path('/mnt/c/Users/akim/gitlab/other/magnetic-tiles-defect/data/MAGNETIC_TILE_SURFACE_DEFECTS/MT_Fray'),Path('/mnt/c/Users/akim/gitlab/other/magnetic-tiles-defect/data/MAGNETIC_TILE_SURFACE_DEFECTS/MT_Free'),Path('/mnt/c/Users/akim/gitlab/other/magnetic-tiles-defect/data/MAGNETIC_TILE_SURFACE_DEFECTS/MT_Uneven'),Path('/mnt/c/Users/akim/gitlab/other/magnetic-tiles-defect/data/MAGNETIC_TILE_SURFACE_DEFECTS/README.md')]"
      ]
     },
     "execution_count": 7,
     "metadata": {},
     "output_type": "execute_result"
    }
   ],
   "source": [
    "dataset_path.ls()"
   ]
  },
  {
   "cell_type": "code",
   "execution_count": 8,
   "id": "643d5851",
   "metadata": {},
   "outputs": [],
   "source": [
    "if (dataset_path/'MT_Free').exists():\n",
    "    rmtree(dataset_path/'MT_Free')"
   ]
  },
  {
   "cell_type": "code",
   "execution_count": 9,
   "id": "958ec0db",
   "metadata": {},
   "outputs": [
    {
     "data": {
      "text/plain": [
       "['MT_Blowhole', 'MT_Break', 'MT_Crack', 'MT_Fray', 'MT_Uneven']"
      ]
     },
     "execution_count": 9,
     "metadata": {},
     "output_type": "execute_result"
    }
   ],
   "source": [
    "classes = []\n",
    "for ii in (dataset_path).ls():\n",
    "    if ii.is_dir() and ii.stem.startswith('MT_'):\n",
    "        classes.append(ii.stem)\n",
    "classes"
   ]
  },
  {
   "cell_type": "code",
   "execution_count": 10,
   "id": "8b3ef0a1",
   "metadata": {},
   "outputs": [
    {
     "data": {
      "text/plain": [
       "{'MT_Blowhole': 1, 'MT_Break': 2, 'MT_Crack': 3, 'MT_Fray': 4, 'MT_Uneven': 5}"
      ]
     },
     "execution_count": 10,
     "metadata": {},
     "output_type": "execute_result"
    }
   ],
   "source": [
    "classes_dict = {c:i+1 for i, c in enumerate(classes)}\n",
    "classes_dict"
   ]
  },
  {
   "cell_type": "code",
   "execution_count": 11,
   "id": "0276b44a",
   "metadata": {},
   "outputs": [
    {
     "data": {
      "text/plain": [
       "392"
      ]
     },
     "execution_count": 11,
     "metadata": {},
     "output_type": "execute_result"
    }
   ],
   "source": [
    "img_paths = [get_files(dataset_path/c, extensions='.jpg') for c in classes]\n",
    "img_paths = [ii for sublist in img_paths for ii in sublist]\n",
    "len(img_paths)"
   ]
  },
  {
   "cell_type": "code",
   "execution_count": 12,
   "id": "9828fd68",
   "metadata": {},
   "outputs": [
    {
     "data": {
      "text/plain": [
       "392"
      ]
     },
     "execution_count": 12,
     "metadata": {},
     "output_type": "execute_result"
    }
   ],
   "source": [
    "msk_paths = [get_files(dataset_path/c, extensions='.png') for c in classes]\n",
    "msk_paths = [ii for sublist in msk_paths for ii in sublist]\n",
    "len(msk_paths)"
   ]
  },
  {
   "cell_type": "code",
   "execution_count": 13,
   "id": "17611c75",
   "metadata": {},
   "outputs": [],
   "source": [
    "assert len(img_paths) == len(msk_paths)"
   ]
  },
  {
   "cell_type": "code",
   "execution_count": 14,
   "id": "b35363f7",
   "metadata": {},
   "outputs": [],
   "source": [
    "path_images = dataset_path/'images'\n",
    "path_masks = dataset_path/'masks'\n",
    "\n",
    "for p in [path_images, path_masks]:\n",
    "    p.mkdir(exist_ok=True)"
   ]
  },
  {
   "cell_type": "code",
   "execution_count": 15,
   "id": "34b1614f",
   "metadata": {},
   "outputs": [
    {
     "data": {
      "application/vnd.jupyter.widget-view+json": {
       "model_id": "bf9956c25a7b49a388f2ab74aba3ecea",
       "version_major": 2,
       "version_minor": 0
      },
      "text/plain": [
       "  0%|          | 0/392 [00:00<?, ?it/s]"
      ]
     },
     "metadata": {},
     "output_type": "display_data"
    }
   ],
   "source": [
    "np.random.seed(42)\n",
    "for img_path, msk_path in tqdm(zip(img_paths, msk_paths), total=len(img_paths)):\n",
    "    c = msk_path.parent.parent.stem\n",
    "    msk = np.array(Image.open(msk_path))\n",
    "    msk[msk>0] = 1 # binary segmenation: defect/defect-free\n",
    "\n",
    "    new_img_path = path_images/img_path.name\n",
    "    new_mask_path = path_masks/msk_path.name\n",
    "    copyfile(img_path, new_img_path)\n",
    "    Image.fromarray(msk).save(new_mask_path)"
   ]
  },
  {
   "cell_type": "code",
   "execution_count": 16,
   "id": "512ea788",
   "metadata": {},
   "outputs": [],
   "source": [
    "assert len(get_files(path_images, extensions='.jpg')) == len(get_files(path_masks, extensions='.png'))"
   ]
  },
  {
   "cell_type": "code",
   "execution_count": null,
   "id": "33b6f4df",
   "metadata": {},
   "outputs": [],
   "source": []
  }
 ],
 "metadata": {
  "interpreter": {
   "hash": "dd7a3dbcd42e9c657f5ca607d0bf27297d7d34da9ea5a5a1a4e2a3a7ac3eee7e"
  },
  "kernelspec": {
   "display_name": "Python (magtiles)",
   "language": "python",
   "name": "python3"
  },
  "language_info": {
   "codemirror_mode": {
    "name": "ipython",
    "version": 3
   },
   "file_extension": ".py",
   "mimetype": "text/x-python",
   "name": "python",
   "nbconvert_exporter": "python",
   "pygments_lexer": "ipython3",
   "version": "3.9.7"
  }
 },
 "nbformat": 4,
 "nbformat_minor": 5
}

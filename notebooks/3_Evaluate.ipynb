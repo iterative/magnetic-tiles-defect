{
 "cells": [
  {
   "cell_type": "code",
   "execution_count": null,
   "metadata": {},
   "outputs": [],
   "source": [
    "import numpy as np\n",
    "from pathlib import Path\n",
    "from tqdm.auto import tqdm\n",
    "from fastai.data.all import get_image_files\n",
    "from fastai.vision.all import load_learner,Image, PILImage"
   ]
  },
  {
   "cell_type": "code",
   "execution_count": null,
   "metadata": {},
   "outputs": [],
   "source": [
    "PROJ_PATH = Path.cwd().parent\n",
    "DATASET_NAME = 'MAGNETIC_TILE_SURFACE_DEFECTS'\n",
    "DATASET_PATH = PROJ_PATH/'data'/DATASET_NAME"
   ]
  },
  {
   "cell_type": "code",
   "execution_count": null,
   "metadata": {},
   "outputs": [],
   "source": [
    "def get_mask_path(img_path): \n",
    "    msk_path = img_path.parent.parent/'masks'/f'{img_path.stem}.png'\n",
    "    return msk_path"
   ]
  },
  {
   "cell_type": "code",
   "execution_count": null,
   "metadata": {},
   "outputs": [],
   "source": [
    "pickle_path = DATASET_PATH/'export_learn_obj.pkl'\n",
    "learn = load_learner(pickle_path, cpu=True)"
   ]
  },
  {
   "cell_type": "code",
   "execution_count": null,
   "metadata": {},
   "outputs": [],
   "source": [
    "def dice_coef(y_true, y_pred, eps=0.02):\n",
    "    intersection = np.sum(y_true * y_pred)\n",
    "    if (np.mean(y_true)<eps) and (np.mean(y_pred)<eps):\n",
    "        return 1\n",
    "    return (2*intersection) / (np.sum(y_true) + np.sum(y_pred))"
   ]
  },
  {
   "cell_type": "code",
   "execution_count": null,
   "metadata": {},
   "outputs": [],
   "source": [
    "def resize_and_crop_center(im, sz=128):\n",
    "    new_shape = (np.array(im.shape)/np.min(im.shape)*sz).astype(int)\n",
    "    im = im.resize((new_shape[1], new_shape[0]))\n",
    "    h, w = im.shape\n",
    "    left = (w - sz)/2\n",
    "    top = (h - sz)/2\n",
    "    right = (w + sz)/2\n",
    "    bottom = (h + sz)/2\n",
    "    # Crop the center of the image\n",
    "    im = im.crop((left, top, right, bottom))\n",
    "    return im"
   ]
  },
  {
   "cell_type": "code",
   "execution_count": null,
   "metadata": {},
   "outputs": [],
   "source": [
    "test_img_path = Path.cwd().parent/'data'/'MAGNETIC_TILE_SURFACE_DEFECTS'/'test_images'\n",
    "test_mask_path = Path.cwd().parent/'data'/'MAGNETIC_TILE_SURFACE_DEFECTS'/'test_masks'\n",
    "\n",
    "test_images = get_image_files(test_img_path)\n",
    "\n",
    "dice_list = []\n",
    "for img_path in tqdm(test_images):\n",
    "    mask_path = test_mask_path/f'{img_path.stem}.png'\n",
    "    im = Image.open(img_path)\n",
    "    mask_im = Image.open(mask_path)\n",
    "    im_resized = resize_and_crop_center(im, sz=128)\n",
    "    y_true = resize_and_crop_center(mask_im, sz=128)\n",
    "    y_true = np.array(y_true)\n",
    "    y_pred, *_ = learn.predict(PILImage(im_resized))\n",
    "    y_pred = np.array(y_pred)\n",
    "    dice = dice_coef(y_true, y_pred)\n",
    "    dice_list.append(dice)\n",
    "\n",
    "dice_arr = np.array(dice_list)\n",
    "dice_arr.mean()\n"
   ]
  },
  {
   "cell_type": "code",
   "execution_count": null,
   "metadata": {},
   "outputs": [],
   "source": []
  }
 ],
 "metadata": {
  "interpreter": {
   "hash": "dd7a3dbcd42e9c657f5ca607d0bf27297d7d34da9ea5a5a1a4e2a3a7ac3eee7e"
  },
  "kernelspec": {
   "display_name": "Python 3.9.7 ('magnetic-tiles-defect-7oo7kef5')",
   "language": "python",
   "name": "python3"
  },
  "language_info": {
   "codemirror_mode": {
    "name": "ipython",
    "version": 3
   },
   "file_extension": ".py",
   "mimetype": "text/x-python",
   "name": "python",
   "nbconvert_exporter": "python",
   "pygments_lexer": "ipython3",
   "version": "3.9.7"
  },
  "orig_nbformat": 4
 },
 "nbformat": 4,
 "nbformat_minor": 2
}
